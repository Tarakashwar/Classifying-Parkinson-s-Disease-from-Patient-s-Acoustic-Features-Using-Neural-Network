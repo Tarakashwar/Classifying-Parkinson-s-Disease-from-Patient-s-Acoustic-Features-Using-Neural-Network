{
  "nbformat": 4,
  "nbformat_minor": 0,
  "metadata": {
    "colab": {
      "provenance": []
    },
    "kernelspec": {
      "name": "python3",
      "display_name": "Python 3"
    },
    "language_info": {
      "name": "python"
    }
  },
  "cells": [
    {
      "cell_type": "code",
      "execution_count": null,
      "metadata": {
        "colab": {
          "base_uri": "https://localhost:8080/"
        },
        "id": "Y66oqY4lK007",
        "outputId": "a6435933-b840-495a-f9f4-49afd35130e6"
      },
      "outputs": [
        {
          "output_type": "stream",
          "name": "stdout",
          "text": [
            "Mounted at /content/drive\n"
          ]
        }
      ],
      "source": [
        "from google.colab import drive\n",
        "drive.mount('/content/drive')"
      ]
    },
    {
      "cell_type": "code",
      "source": [
        "#Importing important files....\n",
        "import io\n",
        "import numpy as np\n",
        "import pandas as pd\n",
        "import seaborn as sns\n",
        "from sklearn import tree\n",
        "from sklearn.svm import SVC\n",
        "from google.colab import files\n",
        "import matplotlib.pyplot as plt\n",
        "from sklearn import linear_model\n",
        "from sklearn.impute import SimpleImputer\n",
        "from sklearn.metrics import accuracy_score\n",
        "from sklearn.metrics import confusion_matrix\n",
        "from sklearn.linear_model import LogisticRegression\n",
        "from sklearn.ensemble import RandomForestClassifier\n",
        "from sklearn.model_selection import train_test_split\n",
        "from xgboost import XGBClassifier\n",
        "import seaborn as sns\n",
        "from sklearn.metrics import confusion_matrix\n",
        "from sklearn.metrics import accuracy_score\n",
        "from sklearn.metrics import precision_score\n",
        "from sklearn.metrics import recall_score\n",
        "from sklearn.metrics import f1_score\n",
        "from sklearn.metrics import cohen_kappa_score\n",
        "from sklearn.metrics import roc_auc_score\n",
        "from sklearn import metrics\n",
        "from xgboost import XGBRegressor, plot_tree\n",
        "from sklearn.preprocessing import StandardScaler\n",
        "from imblearn.over_sampling import SMOTE\n",
        "from sklearn.inspection import permutation_importance\n",
        "from statistics import mean, stdev\n",
        "from sklearn import tree\n",
        "from datetime import datetime\n",
        "from sklearn.model_selection import RandomizedSearchCV, GridSearchCV\n",
        "from sklearn.model_selection import StratifiedKFold\n",
        "from sklearn.ensemble import AdaBoostClassifier\n",
        "from sklearn.tree import DecisionTreeClassifier\n",
        "import pickle\n",
        "import tensorflow as tf\n",
        "from tensorflow.keras.models import Sequential\n",
        "from tensorflow.keras.layers import Dense, Activation\n",
        "from tensorflow.keras.optimizers import Adam\n",
        "from sklearn.metrics import cohen_kappa_score\n",
        "from sklearn.metrics import classification_report\n",
        "from sklearn.model_selection import RandomizedSearchCV\n",
        "from sklearn.neighbors import KNeighborsClassifier\n",
        "\n"
      ],
      "metadata": {
        "id": "wwox-tmgK5At"
      },
      "execution_count": null,
      "outputs": []
    },
    {
      "cell_type": "code",
      "source": [
        "#Uploading dataset...\n",
        "df = pd.read_csv('/content/drive/MyDrive/Research Work/Research work 2/DATASET.csv')\n",
        "#'Gender', 'Jitter_rel', 'Jitter_abs', 'HNR25', 'HNR35', 'HNR38', 'MFCC8'"
      ],
      "metadata": {
        "id": "FTjM6kw5K49_"
      },
      "execution_count": null,
      "outputs": []
    },
    {
      "cell_type": "code",
      "source": [
        "_#Defining features(X) and labels(Y)....\n",
        "X= df.drop(['Status','Recording','ID'],axis =1).values\n",
        "y= df['Status'].values\n"
      ],
      "metadata": {
        "id": "pn21OUZhK461"
      },
      "execution_count": null,
      "outputs": []
    },
    {
      "cell_type": "code",
      "source": [
        "#Checking is any nan value available or not\n",
        "np.any(np.isnan(X))"
      ],
      "metadata": {
        "colab": {
          "base_uri": "https://localhost:8080/"
        },
        "id": "99FwzoCFK439",
        "outputId": "f0b0e983-027d-46f0-c409-2485580dc27e"
      },
      "execution_count": null,
      "outputs": [
        {
          "output_type": "execute_result",
          "data": {
            "text/plain": [
              "False"
            ]
          },
          "metadata": {},
          "execution_count": 9
        }
      ]
    },
    {
      "cell_type": "code",
      "source": [
        "X_scaled = StandardScaler().fit_transform(X)"
      ],
      "metadata": {
        "id": "Fzxjv7bsK41E"
      },
      "execution_count": null,
      "outputs": []
    },
    {
      "cell_type": "code",
      "source": [
        "X_scaled.shape"
      ],
      "metadata": {
        "colab": {
          "base_uri": "https://localhost:8080/"
        },
        "id": "uNagfrPTK4x8",
        "outputId": "586494f8-f238-450e-a276-43d51673c970"
      },
      "execution_count": null,
      "outputs": [
        {
          "output_type": "execute_result",
          "data": {
            "text/plain": [
              "(240, 45)"
            ]
          },
          "metadata": {},
          "execution_count": 11
        }
      ]
    },
    {
      "cell_type": "code",
      "source": [
        "print(\"Before OverSampling, counts of label '1': {}\".format(sum(y == 1)))\n",
        "print(\"Before OverSampling, counts of label '0': {} \\n\".format(sum(y== 0)))"
      ],
      "metadata": {
        "colab": {
          "base_uri": "https://localhost:8080/"
        },
        "id": "FJHj-R5IK4u-",
        "outputId": "37825c6e-e8d4-4bec-cd42-1efc69c816b4"
      },
      "execution_count": null,
      "outputs": [
        {
          "output_type": "stream",
          "name": "stdout",
          "text": [
            "Before OverSampling, counts of label '1': 120\n",
            "Before OverSampling, counts of label '0': 120 \n",
            "\n"
          ]
        }
      ]
    },
    {
      "cell_type": "code",
      "source": [
        "from imblearn.over_sampling import SMOTE\n",
        "sm = SMOTE(random_state = 2)\n",
        "X_res, y_res = sm.fit_resample(X_scaled, y.ravel())\n",
        "\n",
        "print('After OverSampling, the shape of train_X: {}'.format(X_res.shape))\n",
        "print('After OverSampling, the shape of train_y: {} \\n'.format(y_res.shape))\n",
        "\n",
        "print(\"After OverSampling, counts of label '1': {}\".format(sum(y_res == 1)))\n",
        "print(\"After OverSampling, counts of label '0': {}\".format(sum(y_res == 0)))"
      ],
      "metadata": {
        "colab": {
          "base_uri": "https://localhost:8080/"
        },
        "id": "cCp_6Zw1K4sH",
        "outputId": "f0786ba8-a670-4dff-c22c-7dd39198e52a"
      },
      "execution_count": null,
      "outputs": [
        {
          "output_type": "stream",
          "name": "stdout",
          "text": [
            "After OverSampling, the shape of train_X: (240, 45)\n",
            "After OverSampling, the shape of train_y: (240,) \n",
            "\n",
            "After OverSampling, counts of label '1': 120\n",
            "After OverSampling, counts of label '0': 120\n"
          ]
        }
      ]
    },
    {
      "cell_type": "code",
      "source": [
        "#Train and test data set split.....\n",
        "X_train, X_test, y_train, y_test = train_test_split(X_scaled, y, test_size=0.2, random_state=101)"
      ],
      "metadata": {
        "id": "k9bdHafprtgP"
      },
      "execution_count": null,
      "outputs": []
    },
    {
      "cell_type": "code",
      "source": [
        "model = SVC(C=1.0, kernel='rbf', gamma='scale')  # Adjust the C parameter"
      ],
      "metadata": {
        "id": "pCKD9oP9rxKy"
      },
      "execution_count": null,
      "outputs": []
    },
    {
      "cell_type": "code",
      "source": [
        "model.fit(X_train, y_train)\n"
      ],
      "metadata": {
        "colab": {
          "base_uri": "https://localhost:8080/",
          "height": 74
        },
        "id": "f26ys0IOr9Hk",
        "outputId": "09809684-5697-4063-b02a-218ed7a12bf6"
      },
      "execution_count": null,
      "outputs": [
        {
          "output_type": "execute_result",
          "data": {
            "text/plain": [
              "SVC()"
            ],
            "text/html": [
              "<style>#sk-container-id-1 {color: black;background-color: white;}#sk-container-id-1 pre{padding: 0;}#sk-container-id-1 div.sk-toggleable {background-color: white;}#sk-container-id-1 label.sk-toggleable__label {cursor: pointer;display: block;width: 100%;margin-bottom: 0;padding: 0.3em;box-sizing: border-box;text-align: center;}#sk-container-id-1 label.sk-toggleable__label-arrow:before {content: \"▸\";float: left;margin-right: 0.25em;color: #696969;}#sk-container-id-1 label.sk-toggleable__label-arrow:hover:before {color: black;}#sk-container-id-1 div.sk-estimator:hover label.sk-toggleable__label-arrow:before {color: black;}#sk-container-id-1 div.sk-toggleable__content {max-height: 0;max-width: 0;overflow: hidden;text-align: left;background-color: #f0f8ff;}#sk-container-id-1 div.sk-toggleable__content pre {margin: 0.2em;color: black;border-radius: 0.25em;background-color: #f0f8ff;}#sk-container-id-1 input.sk-toggleable__control:checked~div.sk-toggleable__content {max-height: 200px;max-width: 100%;overflow: auto;}#sk-container-id-1 input.sk-toggleable__control:checked~label.sk-toggleable__label-arrow:before {content: \"▾\";}#sk-container-id-1 div.sk-estimator input.sk-toggleable__control:checked~label.sk-toggleable__label {background-color: #d4ebff;}#sk-container-id-1 div.sk-label input.sk-toggleable__control:checked~label.sk-toggleable__label {background-color: #d4ebff;}#sk-container-id-1 input.sk-hidden--visually {border: 0;clip: rect(1px 1px 1px 1px);clip: rect(1px, 1px, 1px, 1px);height: 1px;margin: -1px;overflow: hidden;padding: 0;position: absolute;width: 1px;}#sk-container-id-1 div.sk-estimator {font-family: monospace;background-color: #f0f8ff;border: 1px dotted black;border-radius: 0.25em;box-sizing: border-box;margin-bottom: 0.5em;}#sk-container-id-1 div.sk-estimator:hover {background-color: #d4ebff;}#sk-container-id-1 div.sk-parallel-item::after {content: \"\";width: 100%;border-bottom: 1px solid gray;flex-grow: 1;}#sk-container-id-1 div.sk-label:hover label.sk-toggleable__label {background-color: #d4ebff;}#sk-container-id-1 div.sk-serial::before {content: \"\";position: absolute;border-left: 1px solid gray;box-sizing: border-box;top: 0;bottom: 0;left: 50%;z-index: 0;}#sk-container-id-1 div.sk-serial {display: flex;flex-direction: column;align-items: center;background-color: white;padding-right: 0.2em;padding-left: 0.2em;position: relative;}#sk-container-id-1 div.sk-item {position: relative;z-index: 1;}#sk-container-id-1 div.sk-parallel {display: flex;align-items: stretch;justify-content: center;background-color: white;position: relative;}#sk-container-id-1 div.sk-item::before, #sk-container-id-1 div.sk-parallel-item::before {content: \"\";position: absolute;border-left: 1px solid gray;box-sizing: border-box;top: 0;bottom: 0;left: 50%;z-index: -1;}#sk-container-id-1 div.sk-parallel-item {display: flex;flex-direction: column;z-index: 1;position: relative;background-color: white;}#sk-container-id-1 div.sk-parallel-item:first-child::after {align-self: flex-end;width: 50%;}#sk-container-id-1 div.sk-parallel-item:last-child::after {align-self: flex-start;width: 50%;}#sk-container-id-1 div.sk-parallel-item:only-child::after {width: 0;}#sk-container-id-1 div.sk-dashed-wrapped {border: 1px dashed gray;margin: 0 0.4em 0.5em 0.4em;box-sizing: border-box;padding-bottom: 0.4em;background-color: white;}#sk-container-id-1 div.sk-label label {font-family: monospace;font-weight: bold;display: inline-block;line-height: 1.2em;}#sk-container-id-1 div.sk-label-container {text-align: center;}#sk-container-id-1 div.sk-container {/* jupyter's `normalize.less` sets `[hidden] { display: none; }` but bootstrap.min.css set `[hidden] { display: none !important; }` so we also need the `!important` here to be able to override the default hidden behavior on the sphinx rendered scikit-learn.org. See: https://github.com/scikit-learn/scikit-learn/issues/21755 */display: inline-block !important;position: relative;}#sk-container-id-1 div.sk-text-repr-fallback {display: none;}</style><div id=\"sk-container-id-1\" class=\"sk-top-container\"><div class=\"sk-text-repr-fallback\"><pre>SVC()</pre><b>In a Jupyter environment, please rerun this cell to show the HTML representation or trust the notebook. <br />On GitHub, the HTML representation is unable to render, please try loading this page with nbviewer.org.</b></div><div class=\"sk-container\" hidden><div class=\"sk-item\"><div class=\"sk-estimator sk-toggleable\"><input class=\"sk-toggleable__control sk-hidden--visually\" id=\"sk-estimator-id-1\" type=\"checkbox\" checked><label for=\"sk-estimator-id-1\" class=\"sk-toggleable__label sk-toggleable__label-arrow\">SVC</label><div class=\"sk-toggleable__content\"><pre>SVC()</pre></div></div></div></div></div>"
            ]
          },
          "metadata": {},
          "execution_count": 16
        }
      ]
    },
    {
      "cell_type": "code",
      "source": [
        "test_accuracy = model.score(X_test,y_test)\n",
        "print(test_accuracy)"
      ],
      "metadata": {
        "colab": {
          "base_uri": "https://localhost:8080/"
        },
        "id": "DoYZCaVbsFoK",
        "outputId": "f984a7bc-69bb-47b1-8a00-a5b7e627d04b"
      },
      "execution_count": null,
      "outputs": [
        {
          "output_type": "stream",
          "name": "stdout",
          "text": [
            "0.7916666666666666\n"
          ]
        }
      ]
    },
    {
      "cell_type": "code",
      "source": [
        "train_accuracy = model.score(X_train, y_train)\n",
        "print(train_accuracy)"
      ],
      "metadata": {
        "colab": {
          "base_uri": "https://localhost:8080/"
        },
        "id": "5yKvkf_hsIIk",
        "outputId": "d8110667-44c8-4d0f-c3a2-2b16c9bb1f67"
      },
      "execution_count": null,
      "outputs": [
        {
          "output_type": "stream",
          "name": "stdout",
          "text": [
            "0.890625\n"
          ]
        }
      ]
    },
    {
      "cell_type": "code",
      "source": [
        "y_predicted = model.predict(X_test)\n"
      ],
      "metadata": {
        "id": "YPJAREeNsB-F"
      },
      "execution_count": null,
      "outputs": []
    },
    {
      "cell_type": "code",
      "source": [
        "feature_X = pd.DataFrame(X_scaled)\n",
        "variance = feature_X.var()\n",
        "columns = feature_X.columns"
      ],
      "metadata": {
        "id": "tiJ5TrCwK4oy"
      },
      "execution_count": null,
      "outputs": []
    },
    {
      "cell_type": "code",
      "source": [
        "variance"
      ],
      "metadata": {
        "colab": {
          "base_uri": "https://localhost:8080/"
        },
        "id": "xIFRGrfhK4l4",
        "outputId": "9719d435-48f1-499d-e109-eba4adf91491"
      },
      "execution_count": null,
      "outputs": [
        {
          "output_type": "execute_result",
          "data": {
            "text/plain": [
              "0     1.004184\n",
              "1     1.004184\n",
              "2     1.004184\n",
              "3     1.004184\n",
              "4     1.004184\n",
              "5     1.004184\n",
              "6     1.004184\n",
              "7     1.004184\n",
              "8     1.004184\n",
              "9     1.004184\n",
              "10    1.004184\n",
              "11    1.004184\n",
              "12    1.004184\n",
              "13    1.004184\n",
              "14    1.004184\n",
              "15    1.004184\n",
              "16    1.004184\n",
              "17    1.004184\n",
              "18    1.004184\n",
              "19    1.004184\n",
              "20    1.004184\n",
              "21    1.004184\n",
              "22    1.004184\n",
              "23    1.004184\n",
              "24    1.004184\n",
              "25    1.004184\n",
              "26    1.004184\n",
              "27    1.004184\n",
              "28    1.004184\n",
              "29    1.004184\n",
              "30    1.004184\n",
              "31    1.004184\n",
              "32    1.004184\n",
              "33    1.004184\n",
              "34    1.004184\n",
              "35    1.004184\n",
              "36    1.004184\n",
              "37    1.004184\n",
              "38    1.004184\n",
              "39    1.004184\n",
              "40    1.004184\n",
              "41    1.004184\n",
              "42    1.004184\n",
              "43    1.004184\n",
              "44    1.004184\n",
              "dtype: float64"
            ]
          },
          "metadata": {},
          "execution_count": 33
        }
      ]
    },
    {
      "cell_type": "code",
      "source": [
        "from matplotlib import pyplot\n",
        "\n",
        "\n",
        "figure(figsize=(30, 30), dpi=80)\n",
        "pyplot.bar(feature_name, variance,color='orange')\n",
        "plt.xticks(rotation='vertical',fontsize=14,fontweight='bold')\n",
        "plt.yticks(rotation='vertical',fontsize=14,fontweight='bold')\n",
        "\n",
        "font1 = {'color':'black','size':25}\n",
        "font2 = {'color':'black','size':25}\n",
        "\n",
        "plt.xlabel(\"Feature Name\", fontdict = font2)\n",
        "plt.ylabel(\"Variance\", fontdict = font2)\n",
        "\n",
        "\n",
        "plt.savefig(\"Variance.png\")\n"
      ],
      "metadata": {
        "colab": {
          "base_uri": "https://localhost:8080/",
          "height": 245
        },
        "id": "xu9_DNUFg4_S",
        "outputId": "4f594550-0e7b-4cb3-e534-fa59faba625d"
      },
      "execution_count": null,
      "outputs": [
        {
          "output_type": "error",
          "ename": "NameError",
          "evalue": "ignored",
          "traceback": [
            "\u001b[0;31m---------------------------------------------------------------------------\u001b[0m",
            "\u001b[0;31mNameError\u001b[0m                                 Traceback (most recent call last)",
            "\u001b[0;32m<ipython-input-22-28e8f2591521>\u001b[0m in \u001b[0;36m<cell line: 4>\u001b[0;34m()\u001b[0m\n\u001b[1;32m      2\u001b[0m \u001b[0;34m\u001b[0m\u001b[0m\n\u001b[1;32m      3\u001b[0m \u001b[0;34m\u001b[0m\u001b[0m\n\u001b[0;32m----> 4\u001b[0;31m \u001b[0mfigure\u001b[0m\u001b[0;34m(\u001b[0m\u001b[0mfigsize\u001b[0m\u001b[0;34m=\u001b[0m\u001b[0;34m(\u001b[0m\u001b[0;36m30\u001b[0m\u001b[0;34m,\u001b[0m \u001b[0;36m30\u001b[0m\u001b[0;34m)\u001b[0m\u001b[0;34m,\u001b[0m \u001b[0mdpi\u001b[0m\u001b[0;34m=\u001b[0m\u001b[0;36m80\u001b[0m\u001b[0;34m)\u001b[0m\u001b[0;34m\u001b[0m\u001b[0;34m\u001b[0m\u001b[0m\n\u001b[0m\u001b[1;32m      5\u001b[0m \u001b[0mpyplot\u001b[0m\u001b[0;34m.\u001b[0m\u001b[0mbar\u001b[0m\u001b[0;34m(\u001b[0m\u001b[0mfeature_name\u001b[0m\u001b[0;34m,\u001b[0m \u001b[0mvariance\u001b[0m\u001b[0;34m,\u001b[0m\u001b[0mcolor\u001b[0m\u001b[0;34m=\u001b[0m\u001b[0;34m'orange'\u001b[0m\u001b[0;34m)\u001b[0m\u001b[0;34m\u001b[0m\u001b[0;34m\u001b[0m\u001b[0m\n\u001b[1;32m      6\u001b[0m \u001b[0mplt\u001b[0m\u001b[0;34m.\u001b[0m\u001b[0mxticks\u001b[0m\u001b[0;34m(\u001b[0m\u001b[0mrotation\u001b[0m\u001b[0;34m=\u001b[0m\u001b[0;34m'vertical'\u001b[0m\u001b[0;34m,\u001b[0m\u001b[0mfontsize\u001b[0m\u001b[0;34m=\u001b[0m\u001b[0;36m14\u001b[0m\u001b[0;34m,\u001b[0m\u001b[0mfontweight\u001b[0m\u001b[0;34m=\u001b[0m\u001b[0;34m'bold'\u001b[0m\u001b[0;34m)\u001b[0m\u001b[0;34m\u001b[0m\u001b[0;34m\u001b[0m\u001b[0m\n",
            "\u001b[0;31mNameError\u001b[0m: name 'figure' is not defined"
          ]
        }
      ]
    },
    {
      "cell_type": "code",
      "source": [],
      "metadata": {
        "id": "p-9mJkCMCOKv"
      },
      "execution_count": null,
      "outputs": []
    },
    {
      "cell_type": "code",
      "source": [
        "#saving the names of variables having variance more than a threshold value\n",
        "feature_names = ['Gender','Jitter_rel','Jitter_abs','Jitter_RAP','Jitter_PPQ', 'Shim_loc','Shim_dB','Shim_AP+L1Q3','Shim_APQ5','Shi_APQ11', 'HNR05','HNR15','HNR25','HNR35','HNR38','HNR38','RPDE','DFA','PPE','GNE','MFCC0','MFCC1','MFCC2','MFCC3','MFCC4','MFCC5','MFCC6','MFCC7','MFCC8','MFCC9', 'MFCC10','MFCC11','MFCC12','Delta0','Delta1','Delta2','Delta3','Delta4','Delta5','Delta6','Delta7','Delta8','Delta9','Delta10','Delta11','Delta12' ]\n",
        "\n",
        "\n",
        "variable_droped = [ ]\n",
        "variable =[ ]\n",
        "\n",
        "for i in range(0,len(variance)):\n",
        "    if variance[i]< 1.00418410041841: #setting the threshold as 1%\n",
        "        variable_droped.append(columns[i])\n",
        "    else:\n",
        "              variable.append(columns[i])\n",
        "\n",
        "\n"
      ],
      "metadata": {
        "id": "OswU_wFdK4iW"
      },
      "execution_count": null,
      "outputs": []
    },
    {
      "cell_type": "code",
      "source": [
        "mean(variance)"
      ],
      "metadata": {
        "colab": {
          "base_uri": "https://localhost:8080/"
        },
        "id": "A7CZ9F8ELaSX",
        "outputId": "9c86509a-2e3a-475e-a7ba-31145f1e6812"
      },
      "execution_count": null,
      "outputs": [
        {
          "output_type": "execute_result",
          "data": {
            "text/plain": [
              "1.00418410041841"
            ]
          },
          "metadata": {},
          "execution_count": 35
        }
      ]
    },
    {
      "cell_type": "code",
      "source": [
        "variable"
      ],
      "metadata": {
        "colab": {
          "base_uri": "https://localhost:8080/"
        },
        "id": "tfBmc3JtPn_B",
        "outputId": "c504a36d-980f-4c1a-8a9f-ef79610a3d46"
      },
      "execution_count": null,
      "outputs": [
        {
          "output_type": "execute_result",
          "data": {
            "text/plain": [
              "[3,\n",
              " 4,\n",
              " 5,\n",
              " 6,\n",
              " 7,\n",
              " 8,\n",
              " 9,\n",
              " 10,\n",
              " 11,\n",
              " 14,\n",
              " 16,\n",
              " 17,\n",
              " 18,\n",
              " 19,\n",
              " 20,\n",
              " 21,\n",
              " 22,\n",
              " 23,\n",
              " 24,\n",
              " 25,\n",
              " 26,\n",
              " 27,\n",
              " 29,\n",
              " 30,\n",
              " 31,\n",
              " 32,\n",
              " 33,\n",
              " 34,\n",
              " 35,\n",
              " 36,\n",
              " 37,\n",
              " 38,\n",
              " 39,\n",
              " 40,\n",
              " 41,\n",
              " 42,\n",
              " 43,\n",
              " 44]"
            ]
          },
          "metadata": {},
          "execution_count": 36
        }
      ]
    },
    {
      "cell_type": "code",
      "source": [
        "for i in variable:\n",
        "  print(feature_names[i])\n",
        "\n"
      ],
      "metadata": {
        "colab": {
          "base_uri": "https://localhost:8080/"
        },
        "id": "9AB2VikqLb0i",
        "outputId": "49bbaf22-fd9b-4a6b-ce26-2b5f94028596"
      },
      "execution_count": null,
      "outputs": [
        {
          "output_type": "stream",
          "name": "stdout",
          "text": [
            "Jitter_RAP\n",
            "Jitter_PPQ\n",
            "Shim_loc\n",
            "Shim_dB\n",
            "Shim_AP+L1Q3\n",
            "Shim_APQ5\n",
            "Shi_APQ11\n",
            "HNR05\n",
            "HNR15\n",
            "HNR38\n",
            "RPDE\n",
            "DFA\n",
            "PPE\n",
            "GNE\n",
            "MFCC0\n",
            "MFCC1\n",
            "MFCC2\n",
            "MFCC3\n",
            "MFCC4\n",
            "MFCC5\n",
            "MFCC6\n",
            "MFCC7\n",
            "MFCC9\n",
            "MFCC10\n",
            "MFCC11\n",
            "MFCC12\n",
            "Delta0\n",
            "Delta1\n",
            "Delta2\n",
            "Delta3\n",
            "Delta4\n",
            "Delta5\n",
            "Delta6\n",
            "Delta7\n",
            "Delta8\n",
            "Delta9\n",
            "Delta10\n",
            "Delta11\n"
          ]
        }
      ]
    },
    {
      "cell_type": "code",
      "source": [
        "variable_droped"
      ],
      "metadata": {
        "colab": {
          "base_uri": "https://localhost:8080/"
        },
        "id": "K0OE2sodPzxi",
        "outputId": "af2d8fbf-3207-42a5-915e-6717f8fe75f5"
      },
      "execution_count": null,
      "outputs": [
        {
          "output_type": "execute_result",
          "data": {
            "text/plain": [
              "[0, 1, 2, 12, 13, 15, 28]"
            ]
          },
          "metadata": {},
          "execution_count": 38
        }
      ]
    },
    {
      "cell_type": "code",
      "source": [
        "for i in variable_droped:\n",
        "  print(feature_names[i])"
      ],
      "metadata": {
        "colab": {
          "base_uri": "https://localhost:8080/"
        },
        "id": "DQ_ETcZhPSNJ",
        "outputId": "76ef0c64-1666-42e3-f20a-c7e66989bc3e"
      },
      "execution_count": null,
      "outputs": [
        {
          "output_type": "stream",
          "name": "stdout",
          "text": [
            "Gender\n",
            "Jitter_rel\n",
            "Jitter_abs\n",
            "HNR25\n",
            "HNR35\n",
            "HNR38\n",
            "MFCC8\n"
          ]
        }
      ]
    },
    {
      "cell_type": "code",
      "source": [
        "X_modified = feature_X.drop(variable_droped,axis =1).values\n"
      ],
      "metadata": {
        "id": "tdYfZoMFL1zw"
      },
      "execution_count": null,
      "outputs": []
    },
    {
      "cell_type": "code",
      "source": [
        "X_modified.shape"
      ],
      "metadata": {
        "id": "jE63R7uTL4lI"
      },
      "execution_count": null,
      "outputs": []
    },
    {
      "cell_type": "code",
      "source": [
        "#Train and test data set split.....\n",
        "X_train, X_test, y_train, y_test = train_test_split(X_modified, y_res, test_size=0.2, random_state=0)"
      ],
      "metadata": {
        "id": "qil77QOSL6WP"
      },
      "execution_count": null,
      "outputs": []
    },
    {
      "cell_type": "code",
      "source": [
        "#DTC = DecisionTreeClassifier(random_state = 11, max_features = \"auto\",max_depth = None)\n",
        "\n",
        "estimator= LogisticRegression()"
      ],
      "metadata": {
        "id": "fp1NRlFqblRt"
      },
      "execution_count": null,
      "outputs": []
    },
    {
      "cell_type": "code",
      "source": [
        "# defining parameter range\n",
        "max_iter = range(100, 500)\n",
        "solver = ['lbfgs', 'newton-cg', 'liblinear']\n",
        "warm_start = [True, False]\n",
        "C = np.arange(0, 1, 0.01)\n",
        "param_grid ={\n",
        "    'max_iter' : max_iter,\n",
        "    'warm_start' : warm_start,\n",
        "    'solver' : solver,\n",
        "    'C' : C,\n",
        "}"
      ],
      "metadata": {
        "id": "ud32JSZSblJu"
      },
      "execution_count": null,
      "outputs": []
    },
    {
      "cell_type": "code",
      "source": [
        "random_estimator = RandomizedSearchCV(estimator = estimator,\n",
        "                                   param_distributions = param_grid,\n",
        "                                   refit = True, verbose = 3\n",
        "                                  )"
      ],
      "metadata": {
        "id": "GB7cwd-NblGN"
      },
      "execution_count": null,
      "outputs": []
    },
    {
      "cell_type": "code",
      "source": [
        " #fitting the model for grid search\n",
        "random_estimator.fit(X_train, y_train)\n",
        "# print best parameter after tuning\n",
        "print(random_estimator.best_params_)\n",
        "\n",
        "# print how our model looks after hyper-parameter tuning\n",
        "print(random_estimator.best_estimator_)\n",
        "random_estimator_predictions = random_estimator.predict(X_test)\n",
        "\n",
        "# print classification report\n",
        "print(classification_report(y_test, random_estimator_predictions))"
      ],
      "metadata": {
        "id": "NK5c7_zKblCl"
      },
      "execution_count": null,
      "outputs": []
    },
    {
      "cell_type": "code",
      "source": [
        "model_name= \"LR(LVF_Tuned)\"\n",
        "model = LogisticRegression(C=0.07, max_iter=123, solver='liblinear',warm_start= False)\n",
        "#model = SVC(C=1, gamma=1, kernel= 'rbf')\n",
        "#model = DecisionTreeClassifier(criterion='entropy', max_depth=5, min_samples_leaf=5)\n",
        "\n",
        "#model = RandomForestClassifier(max_depth=6, max_leaf_nodes=9, n_estimators=150)\n",
        "\n",
        "#model = KNeighborsClassifier(metric='euclidean', n_neighbors=7, weights='distance')\n",
        "\n",
        "#model = XGBClassifier(base_score=None, booster=None, callbacks=None,\n",
        " ##            colsample_bytree=0.6, early_stopping_rounds=None,\n",
        "   #           enable_categorical=False, eval_metric=None, feature_types=None,\n",
        "    #          gamma=0.5, gpu_id=None, grow_policy=None, importance_type=None,\n",
        "     #         interaction_constraints=None, learning_rate=None, max_bin=None,\n",
        "      #        max_cat_threshold=None, max_cat_to_onehot=None,\n",
        "       #       max_delta_step=None, max_depth=5, max_leaves=None,\n",
        "        #      min_child_weight=1, monotone_constraints=None,\n",
        "         #     n_estimators=100, n_jobs=None, num_parallel_tree=None,\n",
        "          #    predictor=None, random_state=None)\n",
        "#model = AdaBoostClassifier(algorithm='SAMME',\n",
        " #                  base_estimator=DecisionTreeClassifier(max_features='auto',\n",
        "  #                                               random_state=11),\n",
        "   #                learning_rate=0.98, n_estimators=20)"
      ],
      "metadata": {
        "id": "xwdzT46QL9-I"
      },
      "execution_count": null,
      "outputs": []
    },
    {
      "cell_type": "code",
      "source": [
        "import time\n",
        "t0=time.time()\n",
        "history = model.fit(X_train, y_train)\n",
        "print (\"training time:\", round(time.time()-t0, 3), \"s\") # the time would be round to 3 decimal in seconds\n",
        "t1=time.time()\n",
        "y_predicted = model.predict(X_test)\n",
        "print (\"predict time:\", round(time.time()-t1, 5), \"s\")"
      ],
      "metadata": {
        "id": "LNMMgHyCL9wx"
      },
      "execution_count": null,
      "outputs": []
    },
    {
      "cell_type": "code",
      "source": [
        "model.score(X_train, y_train)"
      ],
      "metadata": {
        "id": "sU9-OVYVL9sL"
      },
      "execution_count": null,
      "outputs": []
    },
    {
      "cell_type": "code",
      "source": [
        "#Model score\n",
        "model.score(X_test,y_test)"
      ],
      "metadata": {
        "id": "EDxqsKOhL9pg"
      },
      "execution_count": null,
      "outputs": []
    },
    {
      "cell_type": "code",
      "source": [
        "import pickle\n",
        "pickle.dump(model, open(\"model_\"+model_name+\".pkl\", \"wb\"))"
      ],
      "metadata": {
        "id": "bu7mC7pjL9Hz"
      },
      "execution_count": null,
      "outputs": []
    },
    {
      "cell_type": "code",
      "source": [
        "cm = confusion_matrix(y_test, y_predicted)\n",
        "print(cm)\n",
        "%matplotlib inline\n",
        "plt.figure(figsize=(10,7))\n",
        "sns.heatmap(cm, annot=True)\n",
        "plt.xlabel('Predicted')\n",
        "plt.ylabel('Truth')\n",
        "plt.savefig(\"CM_\"+model_name+'.png')\n"
      ],
      "metadata": {
        "id": "JA2wXkbjL9Fc"
      },
      "execution_count": null,
      "outputs": []
    },
    {
      "cell_type": "code",
      "source": [
        "#Precision,recall,f1_score,cohen_kappa_score,auc.......\n",
        "print(\"Precision,recall,f1 score,cohen kappa score,auc.....\")\n",
        "print(\" \")\n",
        "\n",
        "# precision tp / (tp + fp)\n",
        "precision = precision_score(y_test, y_predicted)\n",
        "print('Precision: %f' % precision)\n",
        "# recall: tp / (tp + fn)\n",
        "recall = recall_score(y_test,y_predicted)\n",
        "print('Recall: %f' % recall)\n",
        "# f1: 2 tp / (2 tp + fp + fn)\n",
        "f1 = f1_score(y_test, y_predicted)\n",
        "print('F1 score: %f' % f1)\n",
        "# ROC AUC\n",
        "auc = roc_auc_score(y_test,  y_predicted)\n",
        "print('ROC AUC: %f' % auc)\n",
        "#Cohen's kappa\n",
        "kappa=cohen_kappa_score(y_test,  y_predicted)\n",
        "print('Cohen Kappa: %f' % kappa)\n",
        "print(\" \")\n",
        "\n"
      ],
      "metadata": {
        "id": "1xsMwxi4L9Cw"
      },
      "execution_count": null,
      "outputs": []
    },
    {
      "cell_type": "code",
      "source": [
        "print('MAE:', metrics.mean_absolute_error(y_test, y_predicted))\n",
        "print('MSE:', metrics.mean_squared_error(y_test, y_predicted))\n",
        "print('RMSE:', np.sqrt(metrics.mean_squared_error(y_test, y_predicted)))\n",
        "print('VarScore:',metrics.explained_variance_score(y_test,y_predicted))"
      ],
      "metadata": {
        "id": "McPhJmOmL9AQ"
      },
      "execution_count": null,
      "outputs": []
    }
  ]
}