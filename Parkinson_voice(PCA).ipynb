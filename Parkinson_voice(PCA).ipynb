{
  "nbformat": 4,
  "nbformat_minor": 0,
  "metadata": {
    "colab": {
      "provenance": []
    },
    "kernelspec": {
      "name": "python3",
      "display_name": "Python 3"
    },
    "language_info": {
      "name": "python"
    }
  },
  "cells": [
    {
      "cell_type": "code",
      "execution_count": null,
      "metadata": {
        "colab": {
          "base_uri": "https://localhost:8080/"
        },
        "id": "TX8tRznmYD6T",
        "outputId": "e17687d7-91b3-4c83-ad8a-a390f5f23721"
      },
      "outputs": [
        {
          "output_type": "stream",
          "name": "stdout",
          "text": [
            "Mounted at /content/drive\n"
          ]
        }
      ],
      "source": [
        "from google.colab import drive\n",
        "drive.mount('/content/drive')"
      ]
    },
    {
      "cell_type": "code",
      "source": [
        "#Importing important files....\n",
        "import io\n",
        "import numpy as np\n",
        "import pandas as pd\n",
        "import seaborn as sns\n",
        "from sklearn import tree\n",
        "from sklearn.svm import SVC\n",
        "from google.colab import files\n",
        "import matplotlib.pyplot as plt\n",
        "from sklearn import linear_model\n",
        "from sklearn.impute import SimpleImputer\n",
        "from sklearn.metrics import accuracy_score\n",
        "from sklearn.metrics import confusion_matrix\n",
        "from sklearn.linear_model import LogisticRegression\n",
        "from sklearn.ensemble import RandomForestClassifier\n",
        "from sklearn.model_selection import train_test_split\n",
        "from xgboost import XGBClassifier\n",
        "import seaborn as sns\n",
        "from sklearn.metrics import confusion_matrix\n",
        "from sklearn.metrics import accuracy_score\n",
        "from sklearn.metrics import precision_score\n",
        "from sklearn.metrics import recall_score\n",
        "from sklearn.metrics import f1_score\n",
        "from sklearn.metrics import cohen_kappa_score\n",
        "from sklearn.metrics import roc_auc_score\n",
        "from sklearn import metrics\n",
        "from xgboost import XGBRegressor, plot_tree\n",
        "from sklearn.preprocessing import StandardScaler\n",
        "from imblearn.over_sampling import SMOTE\n",
        "from sklearn.inspection import permutation_importance\n",
        "from statistics import mean, stdev\n",
        "from sklearn import tree\n",
        "from datetime import datetime\n",
        "from sklearn.model_selection import RandomizedSearchCV, GridSearchCV\n",
        "from sklearn.model_selection import StratifiedKFold\n",
        "from sklearn.ensemble import AdaBoostClassifier\n",
        "from sklearn.tree import DecisionTreeClassifier\n",
        "import pickle\n",
        "import tensorflow as tf\n",
        "from tensorflow.keras.models import Sequential\n",
        "from tensorflow.keras.layers import Dense, Activation\n",
        "from tensorflow.keras.optimizers import Adam\n",
        "from sklearn.metrics import cohen_kappa_score\n",
        "from sklearn.metrics import classification_report\n",
        "from sklearn.model_selection import RandomizedSearchCV\n",
        "from sklearn.neighbors import KNeighborsClassifier\n",
        "from sklearn.decomposition import PCA\n",
        "\n",
        "\n"
      ],
      "metadata": {
        "id": "3VTXWWsYYHXe"
      },
      "execution_count": null,
      "outputs": []
    },
    {
      "cell_type": "code",
      "source": [
        "df = pd.read_csv('/content/drive/MyDrive/Research Work/Research work 2/DATASET.csv')\n"
      ],
      "metadata": {
        "id": "y06-HZdIYHVA"
      },
      "execution_count": null,
      "outputs": []
    },
    {
      "cell_type": "code",
      "source": [
        "feature_name=['MDVP:Fo(Hz)','MDVP:Fhi(Hz)','MDVP:Flo(Hz)','MDVP:Jitter(%)','MDVP:Jitter(Abs)','MDVP:RAP','MDVP:PPQ','Jitter:DDP','MDVP:Shimmer','MDVP:Shimmer(dB)','Shimmer:APQ3','Shimmer:APQ5','MDVP:APQ','Shimmer:DDA','NHR','HNR','RPDE','DFA','spread1','spread2','D2','PPE']\n",
        "_#Defining features(X) and labels(Y)....\n",
        "X = df.drop(['Status','Recording','ID',],axis =1).values\n",
        "y = df['Status'].values\n",
        "\n"
      ],
      "metadata": {
        "id": "6fIFdD4cYHSk"
      },
      "execution_count": null,
      "outputs": []
    },
    {
      "cell_type": "code",
      "source": [
        "#Checking is any nan value available or not\n",
        "np.any(np.isnan(X))"
      ],
      "metadata": {
        "colab": {
          "base_uri": "https://localhost:8080/"
        },
        "id": "IBBFaLl9YHPz",
        "outputId": "8bd79f50-9818-432e-ae65-875d65ea9933"
      },
      "execution_count": null,
      "outputs": [
        {
          "output_type": "execute_result",
          "data": {
            "text/plain": [
              "False"
            ]
          },
          "metadata": {},
          "execution_count": 6
        }
      ]
    },
    {
      "cell_type": "code",
      "source": [
        "X_scaled = StandardScaler().fit_transform(X)"
      ],
      "metadata": {
        "id": "xO3gNn9PYHJL"
      },
      "execution_count": null,
      "outputs": []
    },
    {
      "cell_type": "code",
      "source": [
        "X_scaled.shape"
      ],
      "metadata": {
        "colab": {
          "base_uri": "https://localhost:8080/"
        },
        "id": "7LP-DqrhYHF-",
        "outputId": "bd453a2f-c4ba-4874-cba7-6b46ce13a4e9"
      },
      "execution_count": null,
      "outputs": [
        {
          "output_type": "execute_result",
          "data": {
            "text/plain": [
              "(240, 45)"
            ]
          },
          "metadata": {},
          "execution_count": 6
        }
      ]
    },
    {
      "cell_type": "code",
      "source": [
        "print(\"Before OverSampling, counts of label '1': {}\".format(sum(y == 1)))\n",
        "print(\"Before OverSampling, counts of label '0': {} \\n\".format(sum(y== 0)))"
      ],
      "metadata": {
        "colab": {
          "base_uri": "https://localhost:8080/"
        },
        "id": "XPblDY6OYHDX",
        "outputId": "3e5a0161-080d-467a-c917-a6e17b13f2dd"
      },
      "execution_count": null,
      "outputs": [
        {
          "output_type": "stream",
          "name": "stdout",
          "text": [
            "Before OverSampling, counts of label '1': 147\n",
            "Before OverSampling, counts of label '0': 48 \n",
            "\n"
          ]
        }
      ]
    },
    {
      "cell_type": "code",
      "source": [
        "from imblearn.over_sampling import SMOTE\n",
        "sm = SMOTE(random_state = 2)\n",
        "X_res, y_res = sm.fit_resample(X_scaled, y.ravel())\n",
        "\n",
        "print('After OverSampling, the shape of train_X: {}'.format(X_res.shape))\n",
        "print('After OverSampling, the shape of train_y: {} \\n'.format(y_res.shape))\n",
        "\n",
        "print(\"After OverSampling, counts of label '1': {}\".format(sum(y_res == 1)))\n",
        "print(\"After OverSampling, counts of label '0': {}\".format(sum(y_res == 0)))"
      ],
      "metadata": {
        "colab": {
          "base_uri": "https://localhost:8080/"
        },
        "id": "YCE8kjl9YHBI",
        "outputId": "58b404e5-c28a-48aa-c302-b175143934a5"
      },
      "execution_count": null,
      "outputs": [
        {
          "output_type": "stream",
          "name": "stdout",
          "text": [
            "After OverSampling, the shape of train_X: (294, 22)\n",
            "After OverSampling, the shape of train_y: (294,) \n",
            "\n",
            "After OverSampling, counts of label '1': 147\n",
            "After OverSampling, counts of label '0': 147\n"
          ]
        }
      ]
    },
    {
      "cell_type": "code",
      "source": [
        "components=30\n",
        "pca = PCA(n_components = components)\n",
        "\n",
        "X_modified = pca.fit_transform(X_scaled)\n",
        "\n",
        "\n",
        "explained_variance = pca.explained_variance_ratio_\n",
        "explained_variance"
      ],
      "metadata": {
        "colab": {
          "base_uri": "https://localhost:8080/"
        },
        "id": "POBC40lXYG-b",
        "outputId": "e517246b-3f5c-4a2d-9cc6-02b80f34fead"
      },
      "execution_count": null,
      "outputs": [
        {
          "output_type": "execute_result",
          "data": {
            "text/plain": [
              "array([0.51037436, 0.1683358 , 0.05612897, 0.04559851, 0.03201655,\n",
              "       0.02079377, 0.01875739, 0.01281553, 0.01193418, 0.01003854,\n",
              "       0.00925069, 0.00852237, 0.00816487, 0.00782605, 0.00683186,\n",
              "       0.00635801, 0.0058967 , 0.00559592, 0.00525697, 0.00483943,\n",
              "       0.00457121, 0.00409783, 0.00395004, 0.0038323 , 0.00365744,\n",
              "       0.00335336, 0.00292641, 0.00276467, 0.00256911, 0.00245229])"
            ]
          },
          "metadata": {},
          "execution_count": 27
        }
      ]
    },
    {
      "cell_type": "code",
      "source": [
        "X_modified.shape"
      ],
      "metadata": {
        "colab": {
          "base_uri": "https://localhost:8080/"
        },
        "id": "og4QjlEBaA-E",
        "outputId": "c7b5bda5-7e3b-45e6-f063-08b68a181733"
      },
      "execution_count": null,
      "outputs": [
        {
          "output_type": "execute_result",
          "data": {
            "text/plain": [
              "(240, 10)"
            ]
          },
          "metadata": {},
          "execution_count": 16
        }
      ]
    },
    {
      "cell_type": "code",
      "source": [
        "fig=plt.figure(figsize=(15,10))\n",
        "sns.set(font_scale = 2)\n",
        "labels=['Healthy','PD']\n",
        "plt.xlabel('PCA component 1')\n",
        "#Set y-axis label\n",
        "plt.ylabel('PCA component 2')\n",
        "sns.scatterplot(data=X_modified, x=X_modified[:,0], y=X_modified[:,1], hue=y_res, style=y_res)\n",
        "plt.savefig('2D data visualization.png')"
      ],
      "metadata": {
        "colab": {
          "base_uri": "https://localhost:8080/",
          "height": 632
        },
        "id": "TVpXcv_6YG8N",
        "outputId": "eb2dc37e-4f7a-4b47-89d4-b0024df3bb9b"
      },
      "execution_count": null,
      "outputs": [
        {
          "output_type": "display_data",
          "data": {
            "text/plain": [
              "<Figure size 1080x720 with 1 Axes>"
            ],
            "image/png": "[encoded data removed]"
          },
          "metadata": {
            "needs_background": "light"
          }
        }
      ]
    },
    {
      "cell_type": "code",
      "source": [
        "components=14\n",
        "pca = PCA(n_components = components)\n",
        "X_modified = pca.fit_transform(X_res)"
      ],
      "metadata": {
        "id": "sD2ftpYrYG3l"
      },
      "execution_count": null,
      "outputs": []
    },
    {
      "cell_type": "code",
      "source": [
        "#Train and test data set split.....\n",
        "X_train, X_test, y_train, y_test = train_test_split(X_modified, y, test_size=0.2, random_state=0)"
      ],
      "metadata": {
        "id": "ddA0OsIwYG1L"
      },
      "execution_count": null,
      "outputs": []
    },
    {
      "cell_type": "code",
      "source": [
        "DTC= DecisionTreeClassifier(random_state = 11, max_features = \"auto\",max_depth = None)\n"
      ],
      "metadata": {
        "id": "vpnEgufnt6gY"
      },
      "execution_count": null,
      "outputs": []
    },
    {
      "cell_type": "code",
      "source": [
        "DTC= DecisionTreeClassifier(random_state = 11, max_features = \"auto\",max_depth = None)\n",
        "\n",
        "estimator= AdaBoostClassifier(base_estimator = DTC)\n",
        "# defining parameter range\n",
        "\n",
        "param_grid = {\n",
        "    'n_estimators': [2, 3, 4, 5, 6, 7, 8, 9, 10, 11, 12, 20],\n",
        "    'learning_rate': [(0.97 + x / 100) for x in range(0, 8)],\n",
        "    'algorithm': ['SAMME', 'SAMME.R']\n",
        "}\n",
        "random_estimator = RandomizedSearchCV(estimator = estimator,\n",
        "                                   param_distributions = param_grid,\n",
        "                                   refit = True, verbose = 3\n",
        "                                  )\n",
        " #fitting the model for grid search\n",
        "random_estimator.fit(X_train, y_train)\n",
        "# print best parameter after tuning\n",
        "print(random_estimator.best_params_)\n",
        "\n",
        "# print how our model looks after hyper-parameter tuning\n",
        "print(random_estimator.best_estimator_)\n",
        "random_estimator_predictions = random_estimator.predict(X_test)\n",
        "\n",
        "# print classification report\n",
        "print(classification_report(y_test, random_estimator_predictions))\n"
      ],
      "metadata": {
        "colab": {
          "base_uri": "https://localhost:8080/"
        },
        "id": "JmFkXUQfGc3Z",
        "outputId": "b6a84830-2396-4c4f-dd82-c511a8ad0d95"
      },
      "execution_count": null,
      "outputs": [
        {
          "output_type": "stream",
          "name": "stdout",
          "text": [
            "Fitting 5 folds for each of 10 candidates, totalling 50 fits\n",
            "[CV 1/5] END algorithm=SAMME, learning_rate=0.97, n_estimators=10;, score=0.894 total time=   0.0s\n",
            "[CV 2/5] END algorithm=SAMME, learning_rate=0.97, n_estimators=10;, score=0.851 total time=   0.0s\n",
            "[CV 3/5] END algorithm=SAMME, learning_rate=0.97, n_estimators=10;, score=0.851 total time=   0.0s\n",
            "[CV 4/5] END algorithm=SAMME, learning_rate=0.97, n_estimators=10;, score=0.766 total time=   0.0s\n",
            "[CV 5/5] END algorithm=SAMME, learning_rate=0.97, n_estimators=10;, score=0.851 total time=   0.0s\n",
            "[CV 1/5] END algorithm=SAMME, learning_rate=1.04, n_estimators=4;, score=0.979 total time=   0.0s\n",
            "[CV 2/5] END algorithm=SAMME, learning_rate=1.04, n_estimators=4;, score=0.872 total time=   0.0s\n",
            "[CV 3/5] END algorithm=SAMME, learning_rate=1.04, n_estimators=4;, score=0.936 total time=   0.0s\n",
            "[CV 4/5] END algorithm=SAMME, learning_rate=1.04, n_estimators=4;, score=0.766 total time=   0.0s\n",
            "[CV 5/5] END algorithm=SAMME, learning_rate=1.04, n_estimators=4;, score=0.894 total time=   0.0s\n",
            "[CV 1/5] END algorithm=SAMME.R, learning_rate=0.97, n_estimators=7;, score=0.915 total time=   0.0s\n",
            "[CV 2/5] END algorithm=SAMME.R, learning_rate=0.97, n_estimators=7;, score=0.894 total time=   0.0s\n",
            "[CV 3/5] END algorithm=SAMME.R, learning_rate=0.97, n_estimators=7;, score=0.894 total time=   0.0s\n",
            "[CV 4/5] END algorithm=SAMME.R, learning_rate=0.97, n_estimators=7;, score=0.809 total time=   0.0s\n",
            "[CV 5/5] END algorithm=SAMME.R, learning_rate=0.97, n_estimators=7;, score=0.809 total time=   0.0s\n",
            "[CV 1/5] END algorithm=SAMME, learning_rate=1.04, n_estimators=11;, score=0.851 total time=   0.0s\n",
            "[CV 2/5] END algorithm=SAMME, learning_rate=1.04, n_estimators=11;, score=0.915 total time=   0.0s\n",
            "[CV 3/5] END algorithm=SAMME, learning_rate=1.04, n_estimators=11;, score=0.872 total time=   0.0s\n",
            "[CV 4/5] END algorithm=SAMME, learning_rate=1.04, n_estimators=11;, score=0.830 total time=   0.0s\n",
            "[CV 5/5] END algorithm=SAMME, learning_rate=1.04, n_estimators=11;, score=0.957 total time=   0.0s\n",
            "[CV 1/5] END algorithm=SAMME.R, learning_rate=0.98, n_estimators=3;, score=0.915 total time=   0.0s\n",
            "[CV 2/5] END algorithm=SAMME.R, learning_rate=0.98, n_estimators=3;, score=0.809 total time=   0.0s\n",
            "[CV 3/5] END algorithm=SAMME.R, learning_rate=0.98, n_estimators=3;, score=0.936 total time=   0.0s\n",
            "[CV 4/5] END algorithm=SAMME.R, learning_rate=0.98, n_estimators=3;, score=0.851 total time=   0.0s\n",
            "[CV 5/5] END algorithm=SAMME.R, learning_rate=0.98, n_estimators=3;, score=0.851 total time=   0.0s\n",
            "[CV 1/5] END algorithm=SAMME.R, learning_rate=0.97, n_estimators=8;, score=0.936 total time=   0.0s\n",
            "[CV 2/5] END algorithm=SAMME.R, learning_rate=0.97, n_estimators=8;, score=0.957 total time=   0.0s\n",
            "[CV 3/5] END algorithm=SAMME.R, learning_rate=0.97, n_estimators=8;, score=0.915 total time=   0.0s\n",
            "[CV 4/5] END algorithm=SAMME.R, learning_rate=0.97, n_estimators=8;, score=0.851 total time=   0.0s\n"
          ]
        },
        {
          "output_type": "stream",
          "name": "stderr",
          "text": [
            "/usr/local/lib/python3.9/dist-packages/sklearn/ensemble/_base.py:166: FutureWarning: `base_estimator` was renamed to `estimator` in version 1.2 and will be removed in 1.4.\n",
            "  warnings.warn(\n",
            "/usr/local/lib/python3.9/dist-packages/sklearn/ensemble/_base.py:166: FutureWarning: `base_estimator` was renamed to `estimator` in version 1.2 and will be removed in 1.4.\n",
            "  warnings.warn(\n",
            "/usr/local/lib/python3.9/dist-packages/sklearn/ensemble/_base.py:166: FutureWarning: `base_estimator` was renamed to `estimator` in version 1.2 and will be removed in 1.4.\n",
            "  warnings.warn(\n",
            "/usr/local/lib/python3.9/dist-packages/sklearn/ensemble/_base.py:166: FutureWarning: `base_estimator` was renamed to `estimator` in version 1.2 and will be removed in 1.4.\n",
            "  warnings.warn(\n",
            "/usr/local/lib/python3.9/dist-packages/sklearn/ensemble/_base.py:166: FutureWarning: `base_estimator` was renamed to `estimator` in version 1.2 and will be removed in 1.4.\n",
            "  warnings.warn(\n",
            "/usr/local/lib/python3.9/dist-packages/sklearn/ensemble/_base.py:166: FutureWarning: `base_estimator` was renamed to `estimator` in version 1.2 and will be removed in 1.4.\n",
            "  warnings.warn(\n",
            "/usr/local/lib/python3.9/dist-packages/sklearn/ensemble/_base.py:166: FutureWarning: `base_estimator` was renamed to `estimator` in version 1.2 and will be removed in 1.4.\n",
            "  warnings.warn(\n",
            "/usr/local/lib/python3.9/dist-packages/sklearn/ensemble/_base.py:166: FutureWarning: `base_estimator` was renamed to `estimator` in version 1.2 and will be removed in 1.4.\n",
            "  warnings.warn(\n",
            "/usr/local/lib/python3.9/dist-packages/sklearn/ensemble/_base.py:166: FutureWarning: `base_estimator` was renamed to `estimator` in version 1.2 and will be removed in 1.4.\n",
            "  warnings.warn(\n",
            "/usr/local/lib/python3.9/dist-packages/sklearn/ensemble/_base.py:166: FutureWarning: `base_estimator` was renamed to `estimator` in version 1.2 and will be removed in 1.4.\n",
            "  warnings.warn(\n",
            "/usr/local/lib/python3.9/dist-packages/sklearn/ensemble/_base.py:166: FutureWarning: `base_estimator` was renamed to `estimator` in version 1.2 and will be removed in 1.4.\n",
            "  warnings.warn(\n",
            "/usr/local/lib/python3.9/dist-packages/sklearn/ensemble/_base.py:166: FutureWarning: `base_estimator` was renamed to `estimator` in version 1.2 and will be removed in 1.4.\n",
            "  warnings.warn(\n",
            "/usr/local/lib/python3.9/dist-packages/sklearn/ensemble/_base.py:166: FutureWarning: `base_estimator` was renamed to `estimator` in version 1.2 and will be removed in 1.4.\n",
            "  warnings.warn(\n",
            "/usr/local/lib/python3.9/dist-packages/sklearn/ensemble/_base.py:166: FutureWarning: `base_estimator` was renamed to `estimator` in version 1.2 and will be removed in 1.4.\n",
            "  warnings.warn(\n",
            "/usr/local/lib/python3.9/dist-packages/sklearn/ensemble/_base.py:166: FutureWarning: `base_estimator` was renamed to `estimator` in version 1.2 and will be removed in 1.4.\n",
            "  warnings.warn(\n",
            "/usr/local/lib/python3.9/dist-packages/sklearn/ensemble/_base.py:166: FutureWarning: `base_estimator` was renamed to `estimator` in version 1.2 and will be removed in 1.4.\n",
            "  warnings.warn(\n",
            "/usr/local/lib/python3.9/dist-packages/sklearn/ensemble/_base.py:166: FutureWarning: `base_estimator` was renamed to `estimator` in version 1.2 and will be removed in 1.4.\n",
            "  warnings.warn(\n",
            "/usr/local/lib/python3.9/dist-packages/sklearn/ensemble/_base.py:166: FutureWarning: `base_estimator` was renamed to `estimator` in version 1.2 and will be removed in 1.4.\n",
            "  warnings.warn(\n",
            "/usr/local/lib/python3.9/dist-packages/sklearn/ensemble/_base.py:166: FutureWarning: `base_estimator` was renamed to `estimator` in version 1.2 and will be removed in 1.4.\n",
            "  warnings.warn(\n",
            "/usr/local/lib/python3.9/dist-packages/sklearn/ensemble/_base.py:166: FutureWarning: `base_estimator` was renamed to `estimator` in version 1.2 and will be removed in 1.4.\n",
            "  warnings.warn(\n",
            "/usr/local/lib/python3.9/dist-packages/sklearn/ensemble/_base.py:166: FutureWarning: `base_estimator` was renamed to `estimator` in version 1.2 and will be removed in 1.4.\n",
            "  warnings.warn(\n",
            "/usr/local/lib/python3.9/dist-packages/sklearn/ensemble/_base.py:166: FutureWarning: `base_estimator` was renamed to `estimator` in version 1.2 and will be removed in 1.4.\n",
            "  warnings.warn(\n",
            "/usr/local/lib/python3.9/dist-packages/sklearn/ensemble/_base.py:166: FutureWarning: `base_estimator` was renamed to `estimator` in version 1.2 and will be removed in 1.4.\n",
            "  warnings.warn(\n",
            "/usr/local/lib/python3.9/dist-packages/sklearn/ensemble/_base.py:166: FutureWarning: `base_estimator` was renamed to `estimator` in version 1.2 and will be removed in 1.4.\n",
            "  warnings.warn(\n",
            "/usr/local/lib/python3.9/dist-packages/sklearn/ensemble/_base.py:166: FutureWarning: `base_estimator` was renamed to `estimator` in version 1.2 and will be removed in 1.4.\n",
            "  warnings.warn(\n",
            "/usr/local/lib/python3.9/dist-packages/sklearn/ensemble/_base.py:166: FutureWarning: `base_estimator` was renamed to `estimator` in version 1.2 and will be removed in 1.4.\n",
            "  warnings.warn(\n",
            "/usr/local/lib/python3.9/dist-packages/sklearn/ensemble/_base.py:166: FutureWarning: `base_estimator` was renamed to `estimator` in version 1.2 and will be removed in 1.4.\n",
            "  warnings.warn(\n",
            "/usr/local/lib/python3.9/dist-packages/sklearn/ensemble/_base.py:166: FutureWarning: `base_estimator` was renamed to `estimator` in version 1.2 and will be removed in 1.4.\n",
            "  warnings.warn(\n",
            "/usr/local/lib/python3.9/dist-packages/sklearn/ensemble/_base.py:166: FutureWarning: `base_estimator` was renamed to `estimator` in version 1.2 and will be removed in 1.4.\n",
            "  warnings.warn(\n",
            "/usr/local/lib/python3.9/dist-packages/sklearn/ensemble/_base.py:166: FutureWarning: `base_estimator` was renamed to `estimator` in version 1.2 and will be removed in 1.4.\n",
            "  warnings.warn(\n"
          ]
        },
        {
          "output_type": "stream",
          "name": "stdout",
          "text": [
            "[CV 5/5] END algorithm=SAMME.R, learning_rate=0.97, n_estimators=8;, score=0.957 total time=   0.0s\n",
            "[CV 1/5] END algorithm=SAMME.R, learning_rate=1.02, n_estimators=20;, score=0.936 total time=   0.0s\n",
            "[CV 2/5] END algorithm=SAMME.R, learning_rate=1.02, n_estimators=20;, score=0.915 total time=   0.0s\n",
            "[CV 3/5] END algorithm=SAMME.R, learning_rate=1.02, n_estimators=20;, score=0.872 total time=   0.0s\n",
            "[CV 4/5] END algorithm=SAMME.R, learning_rate=1.02, n_estimators=20;, score=0.809 total time=   0.0s\n",
            "[CV 5/5] END algorithm=SAMME.R, learning_rate=1.02, n_estimators=20;, score=0.872 total time=   0.0s\n",
            "[CV 1/5] END algorithm=SAMME, learning_rate=0.98, n_estimators=5;, score=0.894 total time=   0.0s\n",
            "[CV 2/5] END algorithm=SAMME, learning_rate=0.98, n_estimators=5;, score=0.936 total time=   0.0s\n",
            "[CV 3/5] END algorithm=SAMME, learning_rate=0.98, n_estimators=5;, score=0.979 total time=   0.0s\n",
            "[CV 4/5] END algorithm=SAMME, learning_rate=0.98, n_estimators=5;, score=0.830 total time=   0.0s\n",
            "[CV 5/5] END algorithm=SAMME, learning_rate=0.98, n_estimators=5;, score=0.809 total time=   0.0s\n",
            "[CV 1/5] END algorithm=SAMME.R, learning_rate=0.99, n_estimators=8;, score=1.000 total time=   0.0s\n",
            "[CV 2/5] END algorithm=SAMME.R, learning_rate=0.99, n_estimators=8;, score=0.851 total time=   0.0s\n",
            "[CV 3/5] END algorithm=SAMME.R, learning_rate=0.99, n_estimators=8;, score=0.957 total time=   0.0s\n",
            "[CV 4/5] END algorithm=SAMME.R, learning_rate=0.99, n_estimators=8;, score=0.872 total time=   0.0s\n",
            "[CV 5/5] END algorithm=SAMME.R, learning_rate=0.99, n_estimators=8;, score=0.809 total time=   0.0s\n",
            "[CV 1/5] END algorithm=SAMME.R, learning_rate=1.04, n_estimators=12;, score=0.894 total time=   0.0s\n",
            "[CV 2/5] END algorithm=SAMME.R, learning_rate=1.04, n_estimators=12;, score=0.809 total time=   0.0s\n",
            "[CV 3/5] END algorithm=SAMME.R, learning_rate=1.04, n_estimators=12;, score=0.894 total time=   0.0s\n",
            "[CV 4/5] END algorithm=SAMME.R, learning_rate=1.04, n_estimators=12;, score=0.830 total time=   0.0s\n",
            "[CV 5/5] END algorithm=SAMME.R, learning_rate=1.04, n_estimators=12;, score=0.787 total time=   0.0s\n",
            "{'n_estimators': 8, 'learning_rate': 0.97, 'algorithm': 'SAMME.R'}\n",
            "AdaBoostClassifier(base_estimator=DecisionTreeClassifier(max_features='auto',\n",
            "                                                         random_state=11),\n",
            "                   learning_rate=0.97, n_estimators=8)\n",
            "              precision    recall  f1-score   support\n",
            "\n",
            "           0       0.90      0.81      0.85        32\n",
            "           1       0.80      0.89      0.84        27\n",
            "\n",
            "    accuracy                           0.85        59\n",
            "   macro avg       0.85      0.85      0.85        59\n",
            "weighted avg       0.85      0.85      0.85        59\n",
            "\n"
          ]
        },
        {
          "output_type": "stream",
          "name": "stderr",
          "text": [
            "/usr/local/lib/python3.9/dist-packages/sklearn/ensemble/_base.py:166: FutureWarning: `base_estimator` was renamed to `estimator` in version 1.2 and will be removed in 1.4.\n",
            "  warnings.warn(\n",
            "/usr/local/lib/python3.9/dist-packages/sklearn/ensemble/_base.py:166: FutureWarning: `base_estimator` was renamed to `estimator` in version 1.2 and will be removed in 1.4.\n",
            "  warnings.warn(\n",
            "/usr/local/lib/python3.9/dist-packages/sklearn/ensemble/_base.py:166: FutureWarning: `base_estimator` was renamed to `estimator` in version 1.2 and will be removed in 1.4.\n",
            "  warnings.warn(\n",
            "/usr/local/lib/python3.9/dist-packages/sklearn/ensemble/_base.py:166: FutureWarning: `base_estimator` was renamed to `estimator` in version 1.2 and will be removed in 1.4.\n",
            "  warnings.warn(\n",
            "/usr/local/lib/python3.9/dist-packages/sklearn/ensemble/_base.py:166: FutureWarning: `base_estimator` was renamed to `estimator` in version 1.2 and will be removed in 1.4.\n",
            "  warnings.warn(\n",
            "/usr/local/lib/python3.9/dist-packages/sklearn/ensemble/_base.py:166: FutureWarning: `base_estimator` was renamed to `estimator` in version 1.2 and will be removed in 1.4.\n",
            "  warnings.warn(\n",
            "/usr/local/lib/python3.9/dist-packages/sklearn/ensemble/_base.py:166: FutureWarning: `base_estimator` was renamed to `estimator` in version 1.2 and will be removed in 1.4.\n",
            "  warnings.warn(\n",
            "/usr/local/lib/python3.9/dist-packages/sklearn/ensemble/_base.py:166: FutureWarning: `base_estimator` was renamed to `estimator` in version 1.2 and will be removed in 1.4.\n",
            "  warnings.warn(\n",
            "/usr/local/lib/python3.9/dist-packages/sklearn/ensemble/_base.py:166: FutureWarning: `base_estimator` was renamed to `estimator` in version 1.2 and will be removed in 1.4.\n",
            "  warnings.warn(\n",
            "/usr/local/lib/python3.9/dist-packages/sklearn/ensemble/_base.py:166: FutureWarning: `base_estimator` was renamed to `estimator` in version 1.2 and will be removed in 1.4.\n",
            "  warnings.warn(\n",
            "/usr/local/lib/python3.9/dist-packages/sklearn/ensemble/_base.py:166: FutureWarning: `base_estimator` was renamed to `estimator` in version 1.2 and will be removed in 1.4.\n",
            "  warnings.warn(\n",
            "/usr/local/lib/python3.9/dist-packages/sklearn/ensemble/_base.py:166: FutureWarning: `base_estimator` was renamed to `estimator` in version 1.2 and will be removed in 1.4.\n",
            "  warnings.warn(\n",
            "/usr/local/lib/python3.9/dist-packages/sklearn/ensemble/_base.py:166: FutureWarning: `base_estimator` was renamed to `estimator` in version 1.2 and will be removed in 1.4.\n",
            "  warnings.warn(\n",
            "/usr/local/lib/python3.9/dist-packages/sklearn/ensemble/_base.py:166: FutureWarning: `base_estimator` was renamed to `estimator` in version 1.2 and will be removed in 1.4.\n",
            "  warnings.warn(\n",
            "/usr/local/lib/python3.9/dist-packages/sklearn/ensemble/_base.py:166: FutureWarning: `base_estimator` was renamed to `estimator` in version 1.2 and will be removed in 1.4.\n",
            "  warnings.warn(\n",
            "/usr/local/lib/python3.9/dist-packages/sklearn/ensemble/_base.py:166: FutureWarning: `base_estimator` was renamed to `estimator` in version 1.2 and will be removed in 1.4.\n",
            "  warnings.warn(\n",
            "/usr/local/lib/python3.9/dist-packages/sklearn/ensemble/_base.py:166: FutureWarning: `base_estimator` was renamed to `estimator` in version 1.2 and will be removed in 1.4.\n",
            "  warnings.warn(\n",
            "/usr/local/lib/python3.9/dist-packages/sklearn/ensemble/_base.py:166: FutureWarning: `base_estimator` was renamed to `estimator` in version 1.2 and will be removed in 1.4.\n",
            "  warnings.warn(\n",
            "/usr/local/lib/python3.9/dist-packages/sklearn/ensemble/_base.py:166: FutureWarning: `base_estimator` was renamed to `estimator` in version 1.2 and will be removed in 1.4.\n",
            "  warnings.warn(\n",
            "/usr/local/lib/python3.9/dist-packages/sklearn/ensemble/_base.py:166: FutureWarning: `base_estimator` was renamed to `estimator` in version 1.2 and will be removed in 1.4.\n",
            "  warnings.warn(\n",
            "/usr/local/lib/python3.9/dist-packages/sklearn/ensemble/_base.py:166: FutureWarning: `base_estimator` was renamed to `estimator` in version 1.2 and will be removed in 1.4.\n",
            "  warnings.warn(\n"
          ]
        }
      ]
    },
    {
      "cell_type": "code",
      "source": [
        "model_name= \"ADA(PCA_Tuned)\"\n",
        "#model = LogisticRegression(C=0.51, max_iter=341, solver='newton-cg')\n",
        "\n",
        "#model = SVC(C=1000, gamma=1, kernel='rbf')\n",
        "#model =DecisionTreeClassifier(criterion='gini', max_depth=5, min_samples_leaf=10)\n",
        "\n",
        "\n",
        "#model = RandomForestClassifier(max_depth=9, max_leaf_nodes=6, n_estimators=150, max_features= 'sqrt')\n",
        "#model=KNeighborsClassifier(metric='euclidean', n_neighbors=3, weights='distance')\n",
        "\n",
        "\n",
        "#model = XGBClassifier(base_score=None, booster=None, callbacks=None,\n",
        "              #colsample_bylevel=None, colsample_bynode=None,\n",
        "              #colsample_bytree=0.8, early_stopping_rounds=None,\n",
        "              #enable_categorical=False, eval_metric=None, feature_types=None,\n",
        "              #gamma=2, gpu_id=None, grow_policy=None, importance_type=None,\n",
        "              #interaction_constraints=None, learning_rate=None, max_bin=None,\n",
        "              #max_cat_threshold=None, max_cat_to_onehot=None,\n",
        "              #max_delta_step=None, max_depth=4, max_leaves=None,\n",
        "              #min_child_weight=1,monotone_constraints=None,\n",
        "              #n_estimators=15, n_jobs=None, num_parallel_tree=None,\n",
        "              #predictor=None, random_state=None)\n",
        "model = AdaBoostClassifier(base_estimator=DecisionTreeClassifier(max_features='auto',\n",
        "                                                         random_state=11),\n",
        "                   learning_rate=0.97, n_estimators=8)"
      ],
      "metadata": {
        "id": "u-kAxEDEYGy0"
      },
      "execution_count": null,
      "outputs": []
    },
    {
      "cell_type": "code",
      "source": [
        "import time\n",
        "t0=time.time()\n",
        "history = model.fit(X_train, y_train)\n",
        "print (\"training time:\", round(time.time()-t0, 3), \"s\") # the time would be round to 3 decimal in seconds\n",
        "t1=time.time()\n",
        "y_predicted = model.predict(X_test)\n",
        "print (\"predict time:\", round(time.time()-t1, 5), \"s\")"
      ],
      "metadata": {
        "colab": {
          "base_uri": "https://localhost:8080/"
        },
        "id": "8kf849JXYGwl",
        "outputId": "900285dd-3e63-4bae-b24a-f6359223c9c5"
      },
      "execution_count": null,
      "outputs": [
        {
          "output_type": "stream",
          "name": "stdout",
          "text": [
            "training time: 0.005 s\n",
            "predict time: 0.00077 s\n"
          ]
        },
        {
          "output_type": "stream",
          "name": "stderr",
          "text": [
            "/usr/local/lib/python3.10/dist-packages/sklearn/ensemble/_base.py:166: FutureWarning: `base_estimator` was renamed to `estimator` in version 1.2 and will be removed in 1.4.\n",
            "  warnings.warn(\n"
          ]
        }
      ]
    },
    {
      "cell_type": "code",
      "source": [
        "model.score(X_train, y_train)"
      ],
      "metadata": {
        "colab": {
          "base_uri": "https://localhost:8080/"
        },
        "id": "g8sf01TXYGuE",
        "outputId": "0890c06c-0e43-4796-96da-18c2fec51f23"
      },
      "execution_count": null,
      "outputs": [
        {
          "output_type": "execute_result",
          "data": {
            "text/plain": [
              "1.0"
            ]
          },
          "metadata": {},
          "execution_count": 30
        }
      ]
    },
    {
      "cell_type": "code",
      "source": [
        "#Model score\n",
        "model.score(X_test,y_test)"
      ],
      "metadata": {
        "colab": {
          "base_uri": "https://localhost:8080/"
        },
        "id": "qjP4eWk_ZBMb",
        "outputId": "2bf0317c-9ae7-43b6-c203-3360f4897a91"
      },
      "execution_count": null,
      "outputs": [
        {
          "output_type": "execute_result",
          "data": {
            "text/plain": [
              "0.7291666666666666"
            ]
          },
          "metadata": {},
          "execution_count": 31
        }
      ]
    },
    {
      "cell_type": "code",
      "source": [
        "import pickle\n",
        "pickle.dump(model, open(\"model_\"+model_name+str(components)+\".pkl\", \"wb\"))"
      ],
      "metadata": {
        "id": "eoMZxzRLZBFl"
      },
      "execution_count": null,
      "outputs": []
    },
    {
      "cell_type": "code",
      "source": [
        "cm = confusion_matrix(y_test, y_predicted)\n",
        "print(cm)\n",
        "%matplotlib inline\n",
        "plt.figure(figsize=(10,7))\n",
        "sns.heatmap(cm, annot=True)\n",
        "plt.xlabel('Predicted')\n",
        "plt.ylabel('Truth')\n",
        "plt.savefig(\"CM_\"+model_name+str(components)+'.png')\n"
      ],
      "metadata": {
        "colab": {
          "base_uri": "https://localhost:8080/",
          "height": 504
        },
        "id": "3c77CgcaZBDe",
        "outputId": "c040bd3d-1c59-45ff-f786-daea1297c79a"
      },
      "execution_count": null,
      "outputs": [
        {
          "output_type": "stream",
          "name": "stdout",
          "text": [
            "[[28  4]\n",
            " [ 2 25]]\n"
          ]
        },
        {
          "output_type": "display_data",
          "data": {
            "text/plain": [
              "<Figure size 720x504 with 2 Axes>"
            ],
            "image/png": "[encoded data removed]"
          },
          "metadata": {
            "needs_background": "light"
          }
        }
      ]
    },
    {
      "cell_type": "code",
      "source": [
        "#Precision,recall,f1_score,cohen_kappa_score,auc.......\n",
        "print(\"Precision,recall,f1 score,cohen kappa score,auc.....\")\n",
        "print(\" \")\n",
        "\n",
        "# precision tp / (tp + fp)\n",
        "precision = precision_score(y_test, y_predicted)\n",
        "print('Precision: %f' % precision)\n",
        "# recall: tp / (tp + fn)\n",
        "recall = recall_score(y_test,y_predicted)\n",
        "print('Recall: %f' % recall)\n",
        "# f1: 2 tp / (2 tp + fp + fn)\n",
        "f1 = f1_score(y_test, y_predicted)\n",
        "print('F1 score: %f' % f1)\n",
        "# ROC AUC\n",
        "auc = roc_auc_score(y_test,  y_predicted)\n",
        "print('ROC AUC: %f' % auc)\n",
        "#Cohen's kappa\n",
        "kappa=cohen_kappa_score(y_test,  y_predicted)\n",
        "print('Cohen Kappa: %f' % kappa)\n",
        "print(\" \")\n",
        "\n"
      ],
      "metadata": {
        "colab": {
          "base_uri": "https://localhost:8080/"
        },
        "id": "slv8A6CGZBAs",
        "outputId": "d15194c0-e6b4-4e03-a938-e04bc441ff98"
      },
      "execution_count": null,
      "outputs": [
        {
          "output_type": "stream",
          "name": "stdout",
          "text": [
            "Precision,recall,f1 score,cohen kappa score,auc.....\n",
            " \n",
            "Precision: 0.888889\n",
            "Recall: 0.888889\n",
            "F1 score: 0.888889\n",
            "ROC AUC: 0.897569\n",
            "Cohen Kappa: 0.795139\n",
            " \n"
          ]
        }
      ]
    },
    {
      "cell_type": "code",
      "source": [
        "print('MAE:', metrics.mean_absolute_error(y_test, y_predicted))\n",
        "print('MSE:', metrics.mean_squared_error(y_test, y_predicted))\n",
        "print('RMSE:', np.sqrt(metrics.mean_squared_error(y_test, y_predicted)))\n",
        "print('VarScore:',metrics.explained_variance_score(y_test,y_predicted))"
      ],
      "metadata": {
        "colab": {
          "base_uri": "https://localhost:8080/"
        },
        "id": "NPQ7zfgbZA9r",
        "outputId": "6c355061-5b54-4eca-dde4-cfda3dd7e670"
      },
      "execution_count": null,
      "outputs": [
        {
          "output_type": "stream",
          "name": "stdout",
          "text": [
            "MAE: 0.1016949152542373\n",
            "MSE: 0.1016949152542373\n",
            "RMSE: 0.31889640207164033\n",
            "VarScore: 0.5902777777777778\n"
          ]
        }
      ]
    }
  ]
}