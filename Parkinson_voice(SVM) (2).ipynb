{
  "nbformat": 4,
  "nbformat_minor": 0,
  "metadata": {
    "colab": {
      "provenance": []
    },
    "kernelspec": {
      "name": "python3",
      "display_name": "Python 3"
    }
  },
  "cells": [
    {
      "cell_type": "markdown",
      "source": [
        "#Drive Mount\n"
      ],
      "metadata": {
        "id": "4dpjmNRVKm6e"
      }
    },
    {
      "cell_type": "code",
      "source": [
        "from google.colab import drive\n",
        "drive.mount('/content/drive')"
      ],
      "metadata": {
        "colab": {
          "base_uri": "https://localhost:8080/"
        },
        "id": "V5Um2sRF46g_",
        "outputId": "80b5a15e-71c6-4a56-8a02-1540378774d9"
      },
      "execution_count": null,
      "outputs": [
        {
          "output_type": "stream",
          "name": "stdout",
          "text": [
            "Drive already mounted at /content/drive; to attempt to forcibly remount, call drive.mount(\"/content/drive\", force_remount=True).\n"
          ]
        }
      ]
    },
    {
      "cell_type": "markdown",
      "source": [
        "#Imports"
      ],
      "metadata": {
        "id": "Klu9GKBVKqa8"
      }
    },
    {
      "cell_type": "code",
      "metadata": {
        "id": "FLpSpV1NTBJM"
      },
      "source": [
        "#Importing important files....\n",
        "import numpy as np\n",
        "import pandas as pd\n",
        "import io\n",
        "import matplotlib.pyplot as plt\n",
        "import seaborn as sn#Importing important files....\n",
        "import io\n",
        "import numpy as np\n",
        "import pandas as pd\n",
        "import seaborn as sns\n",
        "from sklearn import tree\n",
        "from sklearn.svm import SVC\n",
        "from google.colab import files\n",
        "import matplotlib.pyplot as plt\n",
        "from sklearn import linear_model\n",
        "from sklearn.impute import SimpleImputer\n",
        "from sklearn.metrics import accuracy_score\n",
        "from sklearn.metrics import confusion_matrix\n",
        "from sklearn.linear_model import LogisticRegression\n",
        "from sklearn.ensemble import RandomForestClassifier\n",
        "from sklearn.model_selection import train_test_split\n",
        "from xgboost import XGBClassifier\n",
        "import seaborn as sns\n",
        "from sklearn.metrics import confusion_matrix\n",
        "from sklearn.metrics import accuracy_score\n",
        "from sklearn.metrics import precision_score\n",
        "from sklearn.metrics import recall_score\n",
        "from sklearn.metrics import f1_score\n",
        "from sklearn.metrics import cohen_kappa_score\n",
        "from sklearn.metrics import roc_auc_score\n",
        "from sklearn import metrics\n",
        "from xgboost import XGBRegressor, plot_tree\n",
        "from sklearn.preprocessing import StandardScaler\n",
        "from imblearn.over_sampling import SMOTE\n",
        "from sklearn.inspection import permutation_importance\n",
        "from statistics import mean\n",
        "from sklearn import tree\n",
        "from datetime import datetime\n",
        "from sklearn.model_selection import RandomizedSearchCV, GridSearchCV\n",
        "from sklearn.model_selection import StratifiedKFold\n",
        "from sklearn.ensemble import AdaBoostClassifier\n",
        "from sklearn.tree import DecisionTreeClassifier\n",
        "import pickle\n",
        "import tensorflow as tf\n",
        "from tensorflow.keras.models import Sequential\n",
        "from tensorflow.keras.layers import Dense, Activation\n",
        "from tensorflow.keras.optimizers import Adam\n",
        "from sklearn.metrics import cohen_kappa_score\n",
        "import tensorflow as tf\n",
        "from tensorflow.keras.models import Sequential\n",
        "from tensorflow.keras.layers import Dense, Activation\n",
        "from tensorflow.keras.optimizers import Adam\n",
        "from sklearn.metrics import accuracy_score\n",
        "\n",
        "from sklearn.model_selection import train_test_split\n",
        "from sklearn.svm import SVC\n",
        "from sklearn.metrics import accuracy_score\n",
        "from google.colab import files\n",
        "from sklearn.metrics import confusion_matrix\n",
        "from sklearn.neighbors import KNeighborsClassifier\n",
        "from sklearn.ensemble import GradientBoostingClassifier"
      ],
      "execution_count": null,
      "outputs": []
    },
    {
      "cell_type": "markdown",
      "source": [
        "#Dataset"
      ],
      "metadata": {
        "id": "Z1huUdfUKv8b"
      }
    },
    {
      "cell_type": "code",
      "metadata": {
        "id": "m0gZzTuxTTk-"
      },
      "source": [
        "#Uploading dataset...\n",
        "df = pd.read_csv('/content/drive/MyDrive/Research Work/Parkinson Disease/DATASET.csv')\n"
      ],
      "execution_count": null,
      "outputs": []
    },
    {
      "cell_type": "code",
      "metadata": {
        "id": "2ZAkI9P4TWRE"
      },
      "source": [
        "_#Defining features(X) and labels(Y)....\n",
        "X= df.drop(['Status','Recording','ID'],axis =1).values\n",
        "y= df['Status'].values\n",
        "\n"
      ],
      "execution_count": null,
      "outputs": []
    },
    {
      "cell_type": "markdown",
      "source": [
        "#Feature Scaling"
      ],
      "metadata": {
        "id": "SYjArLO4K5WF"
      }
    },
    {
      "cell_type": "code",
      "source": [
        "from sklearn.preprocessing import StandardScaler\n",
        "X_Scale = StandardScaler().fit_transform(X)\n",
        "\n",
        "Scaled_feature_X = pd.DataFrame(X)"
      ],
      "metadata": {
        "id": "iSBIl8Eb4Ufz"
      },
      "execution_count": null,
      "outputs": []
    },
    {
      "cell_type": "markdown",
      "source": [
        "#Train & Test dataset Splitting"
      ],
      "metadata": {
        "id": "VWvlazxJK75x"
      }
    },
    {
      "cell_type": "code",
      "source": [
        "#Train and test data set split.....\n",
        "X_train, X_test, y_train, y_test = train_test_split(X_Scale, y, test_size=0.2, random_state=101)"
      ],
      "metadata": {
        "id": "DmE2kCOC4M6m"
      },
      "execution_count": null,
      "outputs": []
    },
    {
      "cell_type": "markdown",
      "source": [
        "### Train & Test View"
      ],
      "metadata": {
        "id": "ZgpOB6kiK_e2"
      }
    },
    {
      "cell_type": "code",
      "metadata": {
        "colab": {
          "base_uri": "https://localhost:8080/"
        },
        "id": "51CUqh2gTbXc",
        "outputId": "9563f54f-6c3e-460d-bca8-fac44d79615a"
      },
      "source": [
        "#Preview of Train and test data....\n",
        "print(\"Train Dataset:\")\n",
        "\n",
        "print(\"Training features: \")\n",
        "print(\" \")\n",
        "print(X_train)\n",
        "print(\" \")\n",
        "\n",
        "print(\"Training labels: \")\n",
        "print(\" \")\n",
        "print(y_train)\n",
        "print(\" \")\n",
        "print(\" \")\n",
        "\n",
        "\n",
        "print(\"Test Dataset:\")\n",
        "\n",
        "print(\"Testing features: \")\n",
        "print(\" \")\n",
        "print(X_train)\n",
        "print(\" \")\n",
        "\n",
        "print(\"Testing labels: \")\n",
        "print(\" \")\n",
        "print(y_test)\n",
        "print(\" \")"
      ],
      "execution_count": null,
      "outputs": [
        {
          "output_type": "stream",
          "name": "stdout",
          "text": [
            "Train Dataset:\n",
            "Training features: \n",
            " \n",
            "[[-0.81649658 -0.13150045  0.10004933 ... -0.23937863 -0.2942453\n",
            "  -0.67000574]\n",
            " [-0.81649658  2.41823576  1.98463502 ... -0.70398664 -0.03332617\n",
            "  -0.58723566]\n",
            " [-0.81649658 -0.10531516 -0.25469621 ... -1.23729321 -1.0045762\n",
            "  -0.67066076]\n",
            " ...\n",
            " [ 1.22474487 -0.81469329 -0.80898612 ...  0.05833295  0.10977646\n",
            "   2.09599868]\n",
            " [ 1.22474487  0.85609635  0.83171201 ...  0.9393249   1.87216426\n",
            "   0.63532899]\n",
            " [ 1.22474487 -0.47093658 -0.40989739 ...  2.93207524  1.73969638\n",
            "   2.7074035 ]]\n",
            " \n",
            "Training labels: \n",
            " \n",
            "[0 1 1 0 0 0 0 1 0 0 1 1 0 1 0 0 0 0 1 0 0 1 1 0 1 1 1 1 0 1 1 1 1 1 0 0 0\n",
            " 1 0 0 0 0 0 1 0 1 0 0 0 0 1 1 0 0 1 1 1 0 0 1 0 0 1 0 0 1 1 1 0 1 0 0 1 1\n",
            " 0 1 1 1 1 0 1 0 0 1 0 0 1 0 1 1 0 0 0 1 1 1 0 1 0 1 0 1 0 1 0 1 1 0 0 1 1\n",
            " 1 0 1 0 1 0 1 1 0 1 0 0 1 1 1 1 1 0 0 1 0 0 0 1 1 1 0 1 1 0 0 0 1 1 1 0 1\n",
            " 0 0 1 0 0 0 1 1 0 0 1 1 0 0 0 1 0 1 1 0 1 0 0 0 1 1 0 0 1 1 0 1 1 1 0 1 1\n",
            " 0 0 0 0 0 0 0]\n",
            " \n",
            " \n",
            "Test Dataset:\n",
            "Testing features: \n",
            " \n",
            "[[-0.81649658 -0.13150045  0.10004933 ... -0.23937863 -0.2942453\n",
            "  -0.67000574]\n",
            " [-0.81649658  2.41823576  1.98463502 ... -0.70398664 -0.03332617\n",
            "  -0.58723566]\n",
            " [-0.81649658 -0.10531516 -0.25469621 ... -1.23729321 -1.0045762\n",
            "  -0.67066076]\n",
            " ...\n",
            " [ 1.22474487 -0.81469329 -0.80898612 ...  0.05833295  0.10977646\n",
            "   2.09599868]\n",
            " [ 1.22474487  0.85609635  0.83171201 ...  0.9393249   1.87216426\n",
            "   0.63532899]\n",
            " [ 1.22474487 -0.47093658 -0.40989739 ...  2.93207524  1.73969638\n",
            "   2.7074035 ]]\n",
            " \n",
            "Testing labels: \n",
            " \n",
            "[1 1 0 1 1 1 0 0 1 0 1 1 1 0 0 1 1 0 1 1 0 1 0 1 1 0 1 1 1 0 1 0 0 0 1 0 0\n",
            " 0 0 1 0 0 1 1 1 1 1 0]\n",
            " \n"
          ]
        }
      ]
    },
    {
      "cell_type": "code",
      "source": [
        "X_test.shape"
      ],
      "metadata": {
        "colab": {
          "base_uri": "https://localhost:8080/"
        },
        "id": "0gQ1HZr3PWFe",
        "outputId": "e4a073d1-72bd-4c75-dde6-419fc0644d3c"
      },
      "execution_count": null,
      "outputs": [
        {
          "output_type": "execute_result",
          "data": {
            "text/plain": [
              "(48, 45)"
            ]
          },
          "metadata": {},
          "execution_count": 241
        }
      ]
    },
    {
      "cell_type": "markdown",
      "source": [
        "\n",
        "\n",
        "---\n",
        "\n"
      ],
      "metadata": {
        "id": "ob-URZi_rOFW"
      }
    },
    {
      "cell_type": "markdown",
      "source": [
        "# _______________________________________________\n",
        "\n",
        "---\n",
        "\n"
      ],
      "metadata": {
        "id": "gDgmQ1ZjrXgq"
      }
    },
    {
      "cell_type": "markdown",
      "source": [
        "#Defining Model"
      ],
      "metadata": {
        "id": "OjnvzYVXLFN0"
      }
    },
    {
      "cell_type": "code",
      "source": [],
      "metadata": {
        "id": "9X6sEPqMeOEl"
      },
      "execution_count": null,
      "outputs": []
    },
    {
      "cell_type": "code",
      "metadata": {
        "id": "sOspRw0iTfiL"
      },
      "source": [
        "#Definimng model\n",
        "model_name = \"GB_Min-Sample-Split\"\n",
        "model = GradientBoostingClassifier(min_samples_split=10)"
      ],
      "execution_count": null,
      "outputs": []
    },
    {
      "cell_type": "markdown",
      "source": [
        "### Define Save Directory"
      ],
      "metadata": {
        "id": "MjDgOFyANT8S"
      }
    },
    {
      "cell_type": "code",
      "source": [
        "save_directory = '/content/drive/MyDrive/Research Work/Research work 2/Without feature selection/Normal/GB_Min-Sample-Split/'"
      ],
      "metadata": {
        "id": "1BKOk0CyNSsb"
      },
      "execution_count": null,
      "outputs": []
    },
    {
      "cell_type": "markdown",
      "source": [
        "### Model Training"
      ],
      "metadata": {
        "id": "3xYbzmn4LL0a"
      }
    },
    {
      "cell_type": "code",
      "source": [
        "import time\n",
        "t0=time.time()\n",
        "history = model.fit(X_train, y_train)\n",
        "print (\"training time:\", round(time.time()-t0, 3), \"s\") # the time would be round to 3 decimal in seconds\n",
        "t1=time.time()\n",
        "y_predicted = model.predict(X_test)\n"
      ],
      "metadata": {
        "colab": {
          "base_uri": "https://localhost:8080/"
        },
        "id": "zH9C-XFUOvGP",
        "outputId": "131c8d43-8558-4a34-80bc-88c6919223b0"
      },
      "execution_count": null,
      "outputs": [
        {
          "output_type": "stream",
          "name": "stdout",
          "text": [
            "training time: 0.47 s\n"
          ]
        }
      ]
    },
    {
      "cell_type": "code",
      "source": [
        "prediction_time = (round(time.time()-t1, 5))/48\n",
        "print(prediction_time)"
      ],
      "metadata": {
        "colab": {
          "base_uri": "https://localhost:8080/"
        },
        "id": "xzLvhkWEPJOT",
        "outputId": "28612520-bb1b-41fc-fe49-907243889f8f"
      },
      "execution_count": null,
      "outputs": [
        {
          "output_type": "stream",
          "name": "stdout",
          "text": [
            "0.00040625\n"
          ]
        }
      ]
    },
    {
      "cell_type": "code",
      "metadata": {
        "id": "bIL9s5WxTigm"
      },
      "source": [
        "#Prediction\n",
        "y_predicted = model.predict(X_test)"
      ],
      "execution_count": null,
      "outputs": []
    },
    {
      "cell_type": "code",
      "metadata": {
        "id": "CJjmK8Z5Tiee"
      },
      "source": [
        "#Model score\n",
        "test_accuracy = model.score(X_test,y_test)"
      ],
      "execution_count": null,
      "outputs": []
    },
    {
      "cell_type": "code",
      "metadata": {
        "id": "ju7GaNXYZ9d5"
      },
      "source": [
        "train_accuracy = model.score(X_train, y_train)"
      ],
      "execution_count": null,
      "outputs": []
    },
    {
      "cell_type": "markdown",
      "source": [
        "# Confusion Matrix"
      ],
      "metadata": {
        "id": "MI_NFrwiLTBt"
      }
    },
    {
      "cell_type": "code",
      "metadata": {
        "id": "MdcbEkzcYJg2"
      },
      "source": [
        "cm = confusion_matrix(y_test, y_predicted)"
      ],
      "execution_count": null,
      "outputs": []
    },
    {
      "cell_type": "code",
      "source": [
        "%matplotlib inline\n",
        "#Your code to generate the heatmap and plot it\n",
        "plt.figure(figsize=(10,7))\n",
        "sn.heatmap(cm, annot=True)\n",
        "plt.xlabel('Predicted')\n",
        "plt.ylabel('Truth')\n",
        "\n",
        "# Define the directory path where you want to save the PNG file\n",
        "\n",
        "\n",
        "# Define the PNG file name\n",
        "png_filename = \"CM_\" + model_name + '.png'\n",
        "\n",
        "# Save the PNG file to the specified directory\n",
        "plt.savefig(save_directory + png_filename)\n",
        "\n",
        "# Display the plot if you want to show it in your Colab notebook\n",
        "plt.show()"
      ],
      "metadata": {
        "colab": {
          "base_uri": "https://localhost:8080/"
        },
        "id": "V_j2ykmABejb",
        "outputId": "e0ff12ec-d379-4ba6-9a02-fde122a217d7"
      },
      "execution_count": null,
      "outputs": [
        {
          "output_type": "display_data",
          "data": {
            "text/plain": [
              "<Figure size 1000x700 with 2 Axes>"
            ],
            "image/png": "[encoded data removed]"
          },
          "metadata": {}
        }
      ]
    },
    {
      "cell_type": "markdown",
      "source": [
        "# Model Performance"
      ],
      "metadata": {
        "id": "7eGiZBpwLbDd"
      }
    },
    {
      "cell_type": "markdown",
      "source": [
        "### Model Error"
      ],
      "metadata": {
        "id": "2s_WIDEwLlx_"
      }
    },
    {
      "cell_type": "code",
      "source": [
        "from sklearn import metrics\n",
        "print('MAE:', metrics.mean_absolute_error(y_test, y_predicted))\n",
        "print('MSE:', metrics.mean_squared_error(y_test, y_predicted))\n",
        "print('RMSE:', np.sqrt(metrics.mean_squared_error(y_test, y_predicted)))\n",
        "print('VarScore:',metrics.explained_variance_score(y_test,y_predicted))"
      ],
      "metadata": {
        "colab": {
          "base_uri": "https://localhost:8080/"
        },
        "id": "75aDlleh-rpS",
        "outputId": "d87a2cd4-1cd1-4e0c-b53c-bd5776db0961"
      },
      "execution_count": null,
      "outputs": [
        {
          "output_type": "stream",
          "name": "stdout",
          "text": [
            "MAE: 0.25\n",
            "MSE: 0.25\n",
            "RMSE: 0.5\n",
            "VarScore: -0.008818342151675651\n"
          ]
        }
      ]
    },
    {
      "cell_type": "markdown",
      "source": [
        "### Console Output"
      ],
      "metadata": {
        "id": "UQ8zTOgvLp_H"
      }
    },
    {
      "cell_type": "code",
      "source": [
        "#Precision,recall,f1_score,cohen_kappa_score,auc.......\n",
        "print(\"Precision,recall,f1 score,cohen kappa score,auc.....\")\n",
        "print(\" \")\n",
        "\n",
        "# precision tp / (tp + fp)\n",
        "precision = precision_score(y_test, y_predicted)\n",
        "print('Precision: %f' % precision)\n",
        "# recall: tp / (tp + fn)\n",
        "recall = recall_score(y_test,y_predicted)\n",
        "print('Recall: %f' % recall)\n",
        "# f1: 2 tp / (2 tp + fp + fn)\n",
        "f1 = f1_score(y_test, y_predicted)\n",
        "print('F1 score: %f' % f1)\n",
        "\n",
        "# ROC AUC\n",
        "auc = roc_auc_score(y_test,  y_predicted)\n",
        "print('ROC AUC: %f' % auc)\n",
        "#Cohen's kappa\n",
        "kappa=cohen_kappa_score(y_test,  y_predicted)\n",
        "print('Cohen Kappa: %f' % kappa)\n",
        "print(\" \")"
      ],
      "metadata": {
        "colab": {
          "base_uri": "https://localhost:8080/"
        },
        "id": "W98f_aiU9z_w",
        "outputId": "d2ebe84e-35ff-4414-eba5-88ca84d2a607"
      },
      "execution_count": null,
      "outputs": [
        {
          "output_type": "stream",
          "name": "stdout",
          "text": [
            "Precision,recall,f1 score,cohen kappa score,auc.....\n",
            " \n",
            "Precision: 0.758621\n",
            "Recall: 0.814815\n",
            "F1 score: 0.785714\n",
            "ROC AUC: 0.740741\n",
            "Cohen Kappa: 0.486631\n",
            " \n"
          ]
        }
      ]
    },
    {
      "cell_type": "markdown",
      "source": [
        "### CSV output"
      ],
      "metadata": {
        "id": "dm24I9OLLgvn"
      }
    },
    {
      "cell_type": "code",
      "source": [
        "import csv\n",
        "import os\n",
        "\n",
        "# Define the directory path where you want to save the CSV file\n",
        "save_directory_csv = '/content/drive/MyDrive/Research Work/Research work 2/Without feature selection/Normal/'\n",
        "\n",
        "# Define the CSV file name\n",
        "csv_filename = \"metrics_all_models.csv\"\n",
        "\n",
        "# Define the model name\n",
        "#model_name = \"LR(Normal)\"  # Replace with the actual model name\n",
        "\n",
        "# Create a list to store the metric values\n",
        "metrics_data = [\n",
        "    [\"Model name\", \"Train Accuracy\", \"Test Accuracy\", \"Precision\", \"Recall\", \"F1 score\", \"ROC AUC\", \"Cohen Kappa\",\"Prediction Time\"],\n",
        "    [model_name, train_accuracy, test_accuracy, precision, recall, f1, auc, kappa, prediction_time]\n",
        "]\n",
        "\n",
        "# Check if the CSV file already exists\n",
        "csv_exists = os.path.isfile(save_directory_csv + csv_filename)\n",
        "\n",
        "# If the CSV file exists, read its content to check for an existing model name\n",
        "existing_data = {}\n",
        "header = [\"Model name\", \"Train Accuracy\", \"Test Accuracy\", \"Precision\", \"Recall\", \"F1 score\", \"ROC AUC\", \"Cohen Kappa\", \"Prediction Time\"]  # Default header\n",
        "if csv_exists:\n",
        "    with open(save_directory_csv + csv_filename, mode='r') as file:\n",
        "        reader = csv.reader(file)\n",
        "        if header == next(reader):  # Check if the header matches the default header\n",
        "            for row in reader:\n",
        "                existing_model_name = row[0]\n",
        "                existing_data[existing_model_name] = row[1:]\n",
        "\n",
        "# Append a new row for the new model name or update existing row\n",
        "existing_data[model_name] = metrics_data[1][1:]\n",
        "\n",
        "# Write the data back to the CSV file\n",
        "with open(save_directory_csv + csv_filename, mode='w', newline='') as file:\n",
        "    writer = csv.writer(file)\n",
        "    writer.writerow(header)  # Write the header row\n",
        "    for model, metrics in existing_data.items():\n",
        "        writer.writerow([model] + metrics)\n",
        "\n",
        "# Print a message to confirm that the metrics have been saved or updated\n",
        "print(f\"Metrics saved or updated in {save_directory_csv + csv_filename}\")\n"
      ],
      "metadata": {
        "colab": {
          "base_uri": "https://localhost:8080/"
        },
        "id": "ABFLFzdqEQDp",
        "outputId": "a5d0cc50-ab67-421d-d40e-3bc07326f486"
      },
      "execution_count": null,
      "outputs": [
        {
          "output_type": "stream",
          "name": "stdout",
          "text": [
            "Metrics saved or updated in /content/drive/MyDrive/Research Work/Research work 2/Without feature selection/Normal/metrics_all_models.csv\n"
          ]
        }
      ]
    },
    {
      "cell_type": "markdown",
      "source": [
        "# Model Storing"
      ],
      "metadata": {
        "id": "VNnhiJKbLs93"
      }
    },
    {
      "cell_type": "code",
      "source": [
        "import pickle\n",
        "\n",
        "# Save the model to the specified directory\n",
        "with open(save_directory + \"model_\" + model_name + \".pkl\", \"wb\") as file:\n",
        "    pickle.dump(model, file)\n"
      ],
      "metadata": {
        "id": "Z5z0rhBS_-ka"
      },
      "execution_count": null,
      "outputs": []
    }
  ]
}